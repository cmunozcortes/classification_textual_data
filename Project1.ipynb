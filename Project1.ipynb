{
  "nbformat": 4,
  "nbformat_minor": 0,
  "metadata": {
    "colab": {
      "name": "Project1.ipynb",
      "version": "0.3.2",
      "provenance": [],
      "collapsed_sections": [],
      "include_colab_link": true
    },
    "kernelspec": {
      "name": "python3",
      "display_name": "Python 3"
    }
  },
  "cells": [
    {
      "cell_type": "markdown",
      "metadata": {
        "id": "view-in-github",
        "colab_type": "text"
      },
      "source": [
        "<a href=\"https://colab.research.google.com/github/cmunozcortes/classification_textual_data/blob/master/Project1.ipynb\" target=\"_parent\"><img src=\"https://colab.research.google.com/assets/colab-badge.svg\" alt=\"Open In Colab\"/></a>"
      ]
    },
    {
      "metadata": {
        "id": "AAOtXmcAMuYQ",
        "colab_type": "text"
      },
      "cell_type": "markdown",
      "source": [
        "## Question 1: Getting Familiar With the Dataset\n",
        "\n",
        "Plot a histogram of the number of training documents for each of the 20 categories to check if they are evenly distributed."
      ]
    },
    {
      "metadata": {
        "id": "lKTSHJgjQemx",
        "colab_type": "code",
        "outputId": "154a3e1c-84c6-4a9d-f79e-8489ec5562e5",
        "colab": {
          "base_uri": "https://localhost:8080/",
          "height": 331
        }
      },
      "cell_type": "code",
      "source": [
        "from sklearn.datasets import fetch_20newsgroups\n",
        "import numpy as np\n",
        "import matplotlib.pyplot as plt\n",
        "\n",
        "ng_train = fetch_20newsgroups(subset='train')\n",
        "targets, counts = np.unique(ng_train.target, return_counts=True)\n",
        "plt.bar(targets, counts, tick_label=ng_train.target_names)\n",
        "plt.xticks(rotation='vertical')\n",
        "plt.title('Number of Training Documents for each Class')\n",
        "plt.ylabel('Document Count')\n",
        "plt.tight_layout()\n",
        "plt.show()"
      ],
      "execution_count": 1,
      "outputs": [
        {
          "output_type": "stream",
          "text": [
            "Downloading 20news dataset. This may take a few minutes.\n",
            "Downloading dataset from https://ndownloader.figshare.com/files/5975967 (14 MB)\n"
          ],
          "name": "stderr"
        },
        {
          "output_type": "display_data",
          "data": {
            "image/png": "[encoded data removed]",
            "text/plain": [
              "<Figure size 432x288 with 1 Axes>"
            ]
          },
          "metadata": {
            "tags": []
          }
        }
      ]
    },
    {
      "metadata": {
        "id": "RDZQFcBVIbol",
        "colab_type": "text"
      },
      "cell_type": "markdown",
      "source": [
        "## Question 2: Feature Extraction\n",
        "\n",
        "Use the following specs to extract features from the textual data:\n",
        "*   Use the “english” stopwords of the CountVectorizer\n",
        "*   Exclude terms that are numbers (e.g. “123”, “-45”, “6.7” etc.)\n",
        "*   Perform lemmatization with nltk.wordnet.WordNetLemmatizer and pos_tag\n",
        "*   Use min_df=3\n",
        "\n",
        "Report the shape of the TF-IDF matrices of the train and test subsets respectively."
      ]
    },
    {
      "metadata": {
        "id": "gbeFFs90IyJL",
        "colab_type": "code",
        "outputId": "d95fa690-350f-47d0-aeaa-1ca52bc69762",
        "colab": {
          "base_uri": "https://localhost:8080/",
          "height": 238
        }
      },
      "cell_type": "code",
      "source": [
        "import numpy as np\n",
        "np.random.seed(42)\n",
        "import random\n",
        "random.seed(42)\n",
        "\n",
        "categories = ['comp.graphics', 'comp.os.ms-windows.misc', \n",
        "              'comp.sys.ibm.pc.hardware', 'comp.sys.mac.hardware', \n",
        "              'rec.autos', 'rec.motorcycles', 'rec.sport.baseball', \n",
        "              'rec.sport.hockey']\n",
        "train_dataset = fetch_20newsgroups(subset = 'train', categories = categories,\n",
        "                                   shuffle = True, random_state = None)\n",
        "test_dataset  = fetch_20newsgroups(subset = 'test', categories = categories,\n",
        "                                   shuffle = True, random_state = None)\n",
        "\n",
        "import nltk\n",
        "nltk.download('stopwords')\n",
        "nltk.download('punkt')\n",
        "nltk.download('averaged_perceptron_tagger')\n",
        "nltk.download('wordnet')\n",
        "from sklearn.feature_extraction import text\n",
        "from nltk.corpus import stopwords\n",
        "from string import punctuation\n",
        "\n",
        "stop_words_skt = text.ENGLISH_STOP_WORDS\n",
        "stop_words_eng = stopwords.words('english')\n",
        "combined_stopwords = set.union(set(stop_words_eng), set(punctuation), \n",
        "                              set(stop_words_skt))\n",
        "\n",
        "from nltk import pos_tag\n",
        "\n",
        "wnl = nltk.wordnet.WordNetLemmatizer()\n",
        "\n",
        "def penn2morphy(penntag):\n",
        "  \"\"\"Convertes Penn Treebank tags to WordNet\"\"\"\n",
        "  morphy_tag = {'NN':'n', 'JJ':'a', 'VB':'v', 'RB':'r'}\n",
        "  try:\n",
        "    return morphy_tag[penntag[:2]]\n",
        "  except:\n",
        "    return 'n'\n",
        "\n",
        "def lemmatize(list_word):\n",
        "  return [wnl.lemmatize(word.lower(), pos=penn2morphy(tag))\n",
        "         for word, tag in pos_tag(list_word)]\n",
        "\n",
        "def stem_remove_punc(text):\n",
        "  return (word for word in lemmatize(analyzer(text))\n",
        "         if word not in combined_stopwords and not word.isdigit())\n",
        "\n",
        "analyzer = text.CountVectorizer().build_analyzer()\n",
        "tfidf_trans = text.TfidfTransformer()\n",
        "\n",
        "vectorizer = text.CountVectorizer(min_df=3, analyzer=stem_remove_punc,\n",
        "                                  stop_words='english')\n",
        "train_counts = vectorizer.fit_transform(train_dataset.data)\n",
        "test_counts = vectorizer.transform(test_dataset.data)\n",
        "\n",
        "X_train_tfidf = tfidf_trans.fit_transform(train_counts)\n",
        "X_test_tfidf = tfidf_trans.transform(test_counts)\n",
        "\n",
        "print('\\nShape of TF-IDF matrices:')\n",
        "print('Train data set: ', X_train_tfidf.shape)\n",
        "print('Test data set: ', X_test_tfidf.shape)"
      ],
      "execution_count": 2,
      "outputs": [
        {
          "output_type": "stream",
          "text": [
            "[nltk_data] Downloading package stopwords to /root/nltk_data...\n",
            "[nltk_data]   Unzipping corpora/stopwords.zip.\n",
            "[nltk_data] Downloading package punkt to /root/nltk_data...\n",
            "[nltk_data]   Unzipping tokenizers/punkt.zip.\n",
            "[nltk_data] Downloading package averaged_perceptron_tagger to\n",
            "[nltk_data]     /root/nltk_data...\n",
            "[nltk_data]   Unzipping taggers/averaged_perceptron_tagger.zip.\n",
            "[nltk_data] Downloading package wordnet to /root/nltk_data...\n",
            "[nltk_data]   Unzipping corpora/wordnet.zip.\n",
            "\n",
            "Shape of TF-IDF matrices:\n",
            "Train data set:  (4732, 16292)\n",
            "Test data set:  (3150, 16292)\n"
          ],
          "name": "stdout"
        }
      ]
    },
    {
      "metadata": {
        "id": "Kclu04K7v4Go",
        "colab_type": "text"
      },
      "cell_type": "markdown",
      "source": [
        "## Question 3: Dimensionality Reduction\n",
        "\n",
        "Reduce the dimensionality of the data using the methods above:\n",
        "*   Apply LSI to the TF-IDF matrix corresponding to the 8 categories with k = 50; so each document is mapped to a 50-dimensional vector\n",
        "*   Also reduce dimensionality through NMF (k = 50) and compare with LSI:\n",
        "  * Which one is larger, the ...\n",
        "\n"
      ]
    },
    {
      "metadata": {
        "id": "kb07kvtAvl3j",
        "colab_type": "text"
      },
      "cell_type": "markdown",
      "source": [
        "### LSA/LSI"
      ]
    },
    {
      "metadata": {
        "id": "lQ7Z4tZlweGz",
        "colab_type": "code",
        "outputId": "20f40fc2-9e29-4590-aaa0-96ae8ad52fbd",
        "colab": {
          "base_uri": "https://localhost:8080/",
          "height": 34
        }
      },
      "cell_type": "code",
      "source": [
        "from sklearn.decomposition import TruncatedSVD\n",
        "\n",
        "# Based on the source code for TruncatedSVD, the return value corresponds to\n",
        "# X_transformed = U * sigma\n",
        "# VT can be obtained by calling .components_ on svd\n",
        "svd = TruncatedSVD(n_components=50)\n",
        "X_transformed = svd.fit_transform(X_train_tfidf)\n",
        "print(X_transformed.shape)"
      ],
      "execution_count": 3,
      "outputs": [
        {
          "output_type": "stream",
          "text": [
            "(4732, 50)\n"
          ],
          "name": "stdout"
        }
      ]
    },
    {
      "metadata": {
        "id": "WbgzxBkmvrCJ",
        "colab_type": "text"
      },
      "cell_type": "markdown",
      "source": [
        "### NMF"
      ]
    },
    {
      "metadata": {
        "id": "o1ff6yoSvtlM",
        "colab_type": "code",
        "outputId": "54c4bf6f-080c-41eb-dd8e-183868a36313",
        "colab": {
          "base_uri": "https://localhost:8080/",
          "height": 34
        }
      },
      "cell_type": "code",
      "source": [
        "from sklearn.decomposition import NMF\n",
        "\n",
        "nmf = NMF(n_components=50)\n",
        "W_train_reduced_nmf = nmf.fit_transform(X_train_tfidf)\n",
        "print(W_train_reduced_nmf.shape)"
      ],
      "execution_count": 4,
      "outputs": [
        {
          "output_type": "stream",
          "text": [
            "(4732, 50)\n"
          ],
          "name": "stdout"
        }
      ]
    },
    {
      "metadata": {
        "id": "xq9YXr9zyFxn",
        "colab_type": "text"
      },
      "cell_type": "markdown",
      "source": [
        "### Comparison between LSA/LSI and NMF"
      ]
    },
    {
      "metadata": {
        "id": "mAA9intiyJMi",
        "colab_type": "code",
        "outputId": "930d8265-25ec-45c6-b49f-358f1c7a106d",
        "colab": {
          "base_uri": "https://localhost:8080/",
          "height": 34
        }
      },
      "cell_type": "code",
      "source": [
        "# Calculate || X - W*H ||^2 for NMF\n",
        "H_train_reduced_nmf = nmf.components_\n",
        "np.sum(np.array(X_train_tfidf - W_train_reduced_nmf.dot(H_train_reduced_nmf))**2)"
      ],
      "execution_count": 5,
      "outputs": [
        {
          "output_type": "execute_result",
          "data": {
            "text/plain": [
              "4143.497036460808"
            ]
          },
          "metadata": {
            "tags": []
          },
          "execution_count": 5
        }
      ]
    },
    {
      "metadata": {
        "id": "4tlRSx2IzFud",
        "colab_type": "code",
        "outputId": "9b030cf2-20b5-40ea-b8cd-387f0b47b2d4",
        "colab": {
          "base_uri": "https://localhost:8080/",
          "height": 34
        }
      },
      "cell_type": "code",
      "source": [
        "# Calculate || X - U_k * Sigma_k * (V_k)^T ||^2 for LSA/LSI\n",
        "VT = svd.components_\n",
        "np.sum(np.array(X_train_tfidf - X_transformed.dot(VT))**2)"
      ],
      "execution_count": 6,
      "outputs": [
        {
          "output_type": "execute_result",
          "data": {
            "text/plain": [
              "4107.9653576566225"
            ]
          },
          "metadata": {
            "tags": []
          },
          "execution_count": 6
        }
      ]
    },
    {
      "metadata": {
        "id": "Ut_dUQ03ES5w",
        "colab_type": "text"
      },
      "cell_type": "markdown",
      "source": [
        "### Question 4: SVM (My-Quan)"
      ]
    },
    {
      "metadata": {
        "id": "fBKOZpg6Drcn",
        "colab_type": "text"
      },
      "cell_type": "markdown",
      "source": [
        "### Question 5: Logistic Classifier (Chris)\n",
        "\n",
        "* Train a logistic classifier without regularization (you may need to come up with some way to approximate this if you use sklearn.linear_model.LogisticRegression); plot the ROC curve and report the confusion matrix and calculate the accuracy, recall precision and F-1 score of this classifier.\n",
        "* Regularization:\n",
        "  * Using 5-fold cross-validation on the dimension-reduced-by-svd training data, find the best regularization strength in the range ... for logistic regression with L1 regularization and logistic regression L2 regularization, respectively.\n",
        "  * Compare the performance (accuracy, precision, recall and F-1 score) of 3 logistic classifiers: w/o regularization, w/ L1 regularization and w/ L2 regularization (with the best parameters you found from the part above), using test data.\n",
        "  * How does the regularization parameter affect the test error? How are the learnt coefficients affected? Why might one be interested in each type of regularization?\n",
        "  * Both logistic regression and linear SVM are trying to classify data points using a linear decision boundary, then what’s the difference between their ways to find this boundary? Why their performance differ?"
      ]
    },
    {
      "metadata": {
        "id": "5pEtQNSAQDII",
        "colab_type": "text"
      },
      "cell_type": "markdown",
      "source": [
        "**Logistic Regression with No Penalty**\n",
        "\n",
        "Since sklearn's implementation of logistic regression does not give us the option of not using a regularizer, we can approximate this by setting the 'C' parameter to a very large number. "
      ]
    },
    {
      "metadata": {
        "id": "ncSbLlLEEQQf",
        "colab_type": "code",
        "colab": {}
      },
      "cell_type": "code",
      "source": [
        "# Combine sub-classes of docs into 'Computer Technology' and 'Recreational \n",
        "# Activity' using floor division such that when target is less than 4, it \n",
        "# becomes 0 and when it's between 4 and 7, it becomes 1\n",
        "vfunc = np.vectorize(lambda target: target // 4)\n",
        "y_train_dataset = vfunc(train_dataset.target)\n",
        "y_test_dataset = vfunc(test_dataset.target)\n",
        "\n",
        "\n",
        "# Logistic Regression\n",
        "from sklearn.linear_model import LinearRegression, LogisticRegression\n",
        "\n",
        "# Instantiate classifier, learn parameters, and predict class for test dataset\n",
        "classifier = LogisticRegression(C=np.inf, solver='lbfgs')\n",
        "classifier.fit(X_train_tfidf, y_train_dataset)\n",
        "prediction = classifier.predict(X_test_tfidf)\n",
        "y_score = classifier.predict_proba(X_test_tfidf)"
      ],
      "execution_count": 0,
      "outputs": []
    },
    {
      "metadata": {
        "id": "u3jcpPySQoIE",
        "colab_type": "text"
      },
      "cell_type": "markdown",
      "source": [
        "**Calculate ROC Curve**\n",
        "\n",
        "Use roc_curve from sklearn"
      ]
    },
    {
      "metadata": {
        "id": "yavSbh3yB6aC",
        "colab_type": "code",
        "colab": {
          "base_uri": "https://localhost:8080/",
          "height": 293
        },
        "outputId": "dc3666ea-7556-491f-fa24-bb2738c9fb6d"
      },
      "cell_type": "code",
      "source": [
        "from sklearn.metrics import recall_score\n",
        "from sklearn.metrics import roc_curve\n",
        "from sklearn.metrics import auc\n",
        "\n",
        "# Calculate fpr and tpr\n",
        "fpr, tpr, _ = roc_curve(y_test_dataset, y_score[:,1])\n",
        "\n",
        "# Function to plot ROC curve\n",
        "def plot_roc(fpr, tpr):\n",
        "    fig, ax = plt.subplots()\n",
        "\n",
        "    roc_auc = auc(fpr,tpr)\n",
        "\n",
        "    ax.plot(fpr, tpr, lw=2, label= 'area under curve = %0.4f' % roc_auc)\n",
        "\n",
        "    ax.grid(color='0.7', linestyle='--', linewidth=1)\n",
        "\n",
        "    ax.set_xlim([-0.1, 1.1])\n",
        "    ax.set_ylim([0.0, 1.05])\n",
        "    ax.set_xlabel('False Positive Rate',fontsize=15)\n",
        "    ax.set_ylabel('True Positive Rate',fontsize=15)\n",
        "\n",
        "    ax.legend(loc=\"lower right\")\n",
        "\n",
        "    for label in ax.get_xticklabels()+ax.get_yticklabels():\n",
        "        label.set_fontsize(15)\n",
        "\n",
        "# Call function to plot ROC\n",
        "plot_roc(fpr, tpr)"
      ],
      "execution_count": 16,
      "outputs": [
        {
          "output_type": "display_data",
          "data": {
            "image/png": "[encoded data removed]",
            "text/plain": [
              "<Figure size 432x288 with 1 Axes>"
            ]
          },
          "metadata": {
            "tags": []
          }
        }
      ]
    },
    {
      "metadata": {
        "id": "hOVH7dZsEaWN",
        "colab_type": "text"
      },
      "cell_type": "markdown",
      "source": [
        "### Question 6: Naive Bayes (Danny)"
      ]
    }
  ]
}