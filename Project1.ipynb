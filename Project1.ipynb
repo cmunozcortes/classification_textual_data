{
 "cells": [
  {
   "cell_type": "markdown",
   "metadata": {
    "colab_type": "text",
    "id": "view-in-github"
   },
   "source": [
    "<a href=\"https://colab.research.google.com/github/cmunozcortes/classification_textual_data/blob/master/Project1.ipynb\" target=\"_parent\"><img src=\"https://colab.research.google.com/assets/colab-badge.svg\" alt=\"Open In Colab\"/></a>"
   ]
  },
  {
   "cell_type": "markdown",
   "metadata": {
    "colab_type": "text",
    "id": "AAOtXmcAMuYQ"
   },
   "source": [
    "## Question 1: Getting Familiar With the Dataset\n",
    "\n",
    "Plot a histogram of the number of training documents for each of the 20 categories to check if they are evenly distributed."
   ]
  },
  {
   "cell_type": "code",
   "execution_count": 5,
   "metadata": {
    "colab": {
     "base_uri": "https://localhost:8080/",
     "height": 297
    },
    "colab_type": "code",
    "id": "lKTSHJgjQemx",
    "outputId": "c0fb4169-ff25-4bb3-a3c9-8dda586b1f70"
   },
   "outputs": [
    {
     "data": {
      "image/png": "[encoded data removed]",
      "text/plain": [
       "<Figure size 432x288 with 1 Axes>"
      ]
     },
     "metadata": {
      "needs_background": "light"
     },
     "output_type": "display_data"
    }
   ],
   "source": [
    "from sklearn.datasets import fetch_20newsgroups\n",
    "import numpy as np\n",
    "import matplotlib.pyplot as plt\n",
    "\n",
    "ng_train = fetch_20newsgroups(subset='train')\n",
    "targets, counts = np.unique(ng_train.target, return_counts=True)\n",
    "plt.bar(targets, counts, tick_label=ng_train.target_names)\n",
    "plt.xticks(rotation='vertical')\n",
    "plt.title('Number of Training Documents for each Class')\n",
    "plt.ylabel('Document Count')\n",
    "plt.tight_layout()\n",
    "plt.show()"
   ]
  },
  {
   "cell_type": "markdown",
   "metadata": {
    "colab_type": "text",
    "id": "RDZQFcBVIbol"
   },
   "source": [
    "## Question 2: Feature Extraction\n",
    "\n",
    "Use the following specs to extract features from the textual data:\n",
    "*   Use the “english” stopwords of the CountVectorizer\n",
    "*   Exclude terms that are numbers (e.g. “123”, “-45”, “6.7” etc.)\n",
    "*   Perform lemmatization with nltk.wordnet.WordNetLemmatizer and pos_tag\n",
    "*   Use min_df=3\n",
    "\n",
    "Report the shape of the TF-IDF matrices of the train and test subsets respectively."
   ]
  },
  {
   "cell_type": "code",
   "execution_count": 6,
   "metadata": {
    "colab": {
     "base_uri": "https://localhost:8080/",
     "height": 255
    },
    "colab_type": "code",
    "id": "gbeFFs90IyJL",
    "outputId": "1a62a6c1-9aaf-4292-e59b-f91be39f04f1"
   },
   "outputs": [
    {
     "name": "stderr",
     "output_type": "stream",
     "text": [
      "[nltk_data] Downloading package stopwords to\n",
      "[nltk_data]     C:\\Users\\Administrator\\AppData\\Roaming\\nltk_data...\n",
      "[nltk_data]   Package stopwords is already up-to-date!\n",
      "[nltk_data] Downloading package punkt to\n",
      "[nltk_data]     C:\\Users\\Administrator\\AppData\\Roaming\\nltk_data...\n",
      "[nltk_data]   Package punkt is already up-to-date!\n",
      "[nltk_data] Downloading package averaged_perceptron_tagger to\n",
      "[nltk_data]     C:\\Users\\Administrator\\AppData\\Roaming\\nltk_data...\n",
      "[nltk_data]   Package averaged_perceptron_tagger is already up-to-\n",
      "[nltk_data]       date!\n",
      "[nltk_data] Downloading package wordnet to\n",
      "[nltk_data]     C:\\Users\\Administrator\\AppData\\Roaming\\nltk_data...\n",
      "[nltk_data]   Package wordnet is already up-to-date!\n"
     ]
    },
    {
     "name": "stdout",
     "output_type": "stream",
     "text": [
      "\n",
      "Shape of TF-IDF matrices:\n",
      "Train data set:  (4732, 16292)\n",
      "Test data set:  (3150, 16292)\n"
     ]
    }
   ],
   "source": [
    "import numpy as np\n",
    "np.random.seed(42)\n",
    "import random\n",
    "random.seed(42)\n",
    "\n",
    "categories = ['comp.graphics', 'comp.os.ms-windows.misc', \n",
    "              'comp.sys.ibm.pc.hardware', 'comp.sys.mac.hardware', \n",
    "              'rec.autos', 'rec.motorcycles', 'rec.sport.baseball', \n",
    "              'rec.sport.hockey']\n",
    "train_dataset = fetch_20newsgroups(subset = 'train', categories = categories,\n",
    "                                   shuffle = True, random_state = None)\n",
    "test_dataset  = fetch_20newsgroups(subset = 'test', categories = categories,\n",
    "                                   shuffle = True, random_state = None)\n",
    "\n",
    "import nltk\n",
    "nltk.download('stopwords')\n",
    "nltk.download('punkt')\n",
    "nltk.download('averaged_perceptron_tagger')\n",
    "nltk.download('wordnet')\n",
    "from sklearn.feature_extraction import text\n",
    "from nltk.corpus import stopwords\n",
    "from string import punctuation\n",
    "\n",
    "stop_words_skt = text.ENGLISH_STOP_WORDS\n",
    "stop_words_eng = stopwords.words('english')\n",
    "combined_stopwords = set.union(set(stop_words_eng), set(punctuation), \n",
    "                              set(stop_words_skt))\n",
    "\n",
    "from nltk import pos_tag\n",
    "\n",
    "wnl = nltk.wordnet.WordNetLemmatizer()\n",
    "\n",
    "def penn2morphy(penntag):\n",
    "  \"\"\"Convertes Penn Treebank tags to WordNet\"\"\"\n",
    "  morphy_tag = {'NN':'n', 'JJ':'a', 'VB':'v', 'RB':'r'}\n",
    "  try:\n",
    "    return morphy_tag[penntag[:2]]\n",
    "  except:\n",
    "    return 'n'\n",
    "\n",
    "def lemmatize(list_word):\n",
    "  return [wnl.lemmatize(word.lower(), pos=penn2morphy(tag))\n",
    "         for word, tag in pos_tag(list_word)]\n",
    "\n",
    "def stem_remove_punc(text):\n",
    "  return (word for word in lemmatize(analyzer(text))\n",
    "         if word not in combined_stopwords and not word.isdigit())\n",
    "\n",
    "analyzer = text.CountVectorizer().build_analyzer()\n",
    "tfidf_trans = text.TfidfTransformer()\n",
    "\n",
    "vectorizer = text.CountVectorizer(min_df=3, analyzer=stem_remove_punc,\n",
    "                                  stop_words='english')\n",
    "train_counts = vectorizer.fit_transform(train_dataset.data)\n",
    "test_counts = vectorizer.transform(test_dataset.data)\n",
    "\n",
    "X_train_tfidf = tfidf_trans.fit_transform(train_counts)\n",
    "X_test_tfidf = tfidf_trans.transform(test_counts)\n",
    "\n",
    "print('\\nShape of TF-IDF matrices:')\n",
    "print('Train data set: ', X_train_tfidf.shape)\n",
    "print('Test data set: ', X_test_tfidf.shape)"
   ]
  },
  {
   "cell_type": "markdown",
   "metadata": {
    "colab_type": "text",
    "id": "Kclu04K7v4Go"
   },
   "source": [
    "## Question 3: Dimensionality Reduction\n",
    "\n",
    "Reduce the dimensionality of the data using the methods above:\n",
    "*   Apply LSI to the TF-IDF matrix corresponding to the 8 categories with k = 50; so each document is mapped to a 50-dimensional vector\n",
    "*   Also reduce dimensionality through NMF (k = 50) and compare with LSI:\n",
    "  * Which one is larger, the ...\n",
    "\n"
   ]
  },
  {
   "cell_type": "markdown",
   "metadata": {
    "colab_type": "text",
    "id": "kb07kvtAvl3j"
   },
   "source": [
    "### LSA/LSI"
   ]
  },
  {
   "cell_type": "code",
   "execution_count": 7,
   "metadata": {
    "colab": {
     "base_uri": "https://localhost:8080/",
     "height": 34
    },
    "colab_type": "code",
    "id": "lQ7Z4tZlweGz",
    "outputId": "8bf9f8a7-2b2c-4e50-91af-8fcd8fb2c363"
   },
   "outputs": [
    {
     "name": "stdout",
     "output_type": "stream",
     "text": [
      "(4732, 50)\n"
     ]
    }
   ],
   "source": [
    "from sklearn.decomposition import TruncatedSVD\n",
    "\n",
    "# Based on the source code for TruncatedSVD, the return value corresponds to\n",
    "# X_transformed = U * sigma\n",
    "# VT can be obtained by calling .components_ on svd\n",
    "svd = TruncatedSVD(n_components=50)\n",
    "X_transformed = svd.fit_transform(X_train_tfidf)\n",
    "print(X_transformed.shape)"
   ]
  },
  {
   "cell_type": "markdown",
   "metadata": {
    "colab_type": "text",
    "id": "WbgzxBkmvrCJ"
   },
   "source": [
    "### NMF"
   ]
  },
  {
   "cell_type": "code",
   "execution_count": 8,
   "metadata": {
    "colab": {
     "base_uri": "https://localhost:8080/",
     "height": 34
    },
    "colab_type": "code",
    "id": "o1ff6yoSvtlM",
    "outputId": "0c15c7d2-bfdd-4a05-faf3-c858b023d142"
   },
   "outputs": [
    {
     "name": "stdout",
     "output_type": "stream",
     "text": [
      "(4732, 50)\n"
     ]
    }
   ],
   "source": [
    "from sklearn.decomposition import NMF\n",
    "\n",
    "nmf = NMF(n_components=50)\n",
    "W_train_reduced_nmf = nmf.fit_transform(X_train_tfidf)\n",
    "print(W_train_reduced_nmf.shape)"
   ]
  },
  {
   "cell_type": "markdown",
   "metadata": {
    "colab_type": "text",
    "id": "xq9YXr9zyFxn"
   },
   "source": [
    "### Comparison between LSA/LSI and NMF"
   ]
  },
  {
   "cell_type": "code",
   "execution_count": 9,
   "metadata": {
    "colab": {
     "base_uri": "https://localhost:8080/",
     "height": 34
    },
    "colab_type": "code",
    "id": "mAA9intiyJMi",
    "outputId": "15bd8504-1178-4aff-e9f1-b3834e240ba8"
   },
   "outputs": [
    {
     "data": {
      "text/plain": [
       "4143.497036460807"
      ]
     },
     "execution_count": 9,
     "metadata": {},
     "output_type": "execute_result"
    }
   ],
   "source": [
    "# Calculate || X - W*H ||^2 for NMF\n",
    "H_train_reduced_nmf = nmf.components_\n",
    "np.sum(np.array(X_train_tfidf - W_train_reduced_nmf.dot(H_train_reduced_nmf))**2)"
   ]
  },
  {
   "cell_type": "code",
   "execution_count": 10,
   "metadata": {
    "colab": {
     "base_uri": "https://localhost:8080/",
     "height": 34
    },
    "colab_type": "code",
    "id": "4tlRSx2IzFud",
    "outputId": "e6f35a49-5ce2-4904-d70f-1310f98e6677"
   },
   "outputs": [
    {
     "data": {
      "text/plain": [
       "4107.965357656623"
      ]
     },
     "execution_count": 10,
     "metadata": {},
     "output_type": "execute_result"
    }
   ],
   "source": [
    "# Calculate || X - U_k * Sigma_k * (V_k)^T ||^2 for LSA/LSI\n",
    "VT = svd.components_\n",
    "np.sum(np.array(X_train_tfidf - X_transformed.dot(VT))**2)"
   ]
  },
  {
   "cell_type": "markdown",
   "metadata": {},
   "source": [
    "### Comparison between LSA/LSI and NMF (Alternative)"
   ]
  },
  {
   "cell_type": "code",
   "execution_count": 11,
   "metadata": {},
   "outputs": [
    {
     "name": "stdout",
     "output_type": "stream",
     "text": [
      "LSI value: 4107.965357656623\n",
      "NMF value: 4143.497036460807\n"
     ]
    }
   ],
   "source": [
    "# For LSI, calculate || X - Uk*SIGMAk*VTk ||^2:\n",
    "# need to calculate Frobenius norm for || X - Uk*SIGMAk*VTk || before squaring\n",
    "LSI_Matrix = X_train_tfidf - (X_transformed @ VT) # X - Uk*SIGMAk*VTk matrix\n",
    "LSI_Opt = np.sum(np.square(LSI_Matrix))           # Frobenius Norm Squared\n",
    "print('LSI value:', LSI_Opt)\n",
    "\n",
    "# For NMF, calculate || X - WH ||^2:\n",
    "# need to calculate Frobenius norm for ||X - WH|| before squaring\n",
    "NMF_Matrix = X_train_tfidf - (W_train_reduced_nmf @ H_train_reduced_nmf)  # X - WH matrix\n",
    "NMF_Opt = np.sum(np.square(NMF_Matrix))   # Frobenius Norm Squared\n",
    "print('NMF value:', NMF_Opt)"
   ]
  },
  {
   "cell_type": "markdown",
   "metadata": {
    "colab_type": "text",
    "id": "Ut_dUQ03ES5w"
   },
   "source": [
    "## Question 4: SVM (My-Quan)"
   ]
  },
  {
   "cell_type": "markdown",
   "metadata": {},
   "source": [
    "### Train Hard Margin and Soft Margin SVM"
   ]
  },
  {
   "cell_type": "code",
   "execution_count": 22,
   "metadata": {},
   "outputs": [],
   "source": [
    "# Combine sub-classes of docs into 'Computer Technology' and 'Recreational \n",
    "# Activity' using floor division such that when target is less than 4, it \n",
    "# becomes 0 and when it's between 4 and 7, it becomes 1\n",
    "vfunc = np.vectorize(lambda target: target // 4)\n",
    "y_train_dataset = vfunc(train_dataset.target)\n",
    "y_test_dataset = vfunc(test_dataset.target)\n",
    "\n",
    "from sklearn.svm import SVC\n",
    "from sklearn.feature_extraction.text import CountVectorizer\n",
    "from sklearn.feature_extraction.text import TfidfTransformer\n",
    "tfidf_transformer = TfidfTransformer()"
   ]
  },
  {
   "cell_type": "code",
   "execution_count": 23,
   "metadata": {
    "scrolled": true
   },
   "outputs": [],
   "source": [
    "from sklearn.base import BaseEstimator, TransformerMixin\n",
    "class SparseToDenseArray(BaseEstimator, TransformerMixin):\n",
    "    def __init__(self):\n",
    "        pass\n",
    "\n",
    "    def transform(self, X, *_):\n",
    "        if hasattr(X, 'toarray'):\n",
    "            return X.toarray()\n",
    "        return X\n",
    "\n",
    "    def fit(self, *_):\n",
    "        return self\n",
    "\n",
    "# create Hard Margin and Soft Margin Pipeline\n",
    "from sklearn.pipeline import Pipeline\n",
    "Hpipeline = Pipeline([\n",
    "    ('vect', CountVectorizer(min_df=3, stop_words='english',analyzer=stem_remove_punc)),\n",
    "    ('tfidf', TfidfTransformer()),\n",
    "    ('reduce_dim', NMF(n_components=50, init='random', random_state=0)),\n",
    "    ('toarr', SparseToDenseArray()),\n",
    "    ('clf', SVC(kernel='linear', C=1000)),\n",
    "])\n",
    "Spipeline = Pipeline([\n",
    "    ('vect', CountVectorizer(min_df=3, stop_words='english',analyzer=stem_remove_punc)),\n",
    "    ('tfidf', TfidfTransformer()),\n",
    "    ('reduce_dim', NMF(n_components=50, init='random', random_state=0)),\n",
    "    ('toarr', SparseToDenseArray()),\n",
    "    ('clf', SVC(kernel='linear', C=0.0001)),\n",
    "])"
   ]
  },
  {
   "cell_type": "code",
   "execution_count": 19,
   "metadata": {},
   "outputs": [],
   "source": [
    "from sklearn.metrics import confusion_matrix\n",
    "from sklearn.metrics import accuracy_score\n",
    "from sklearn.metrics import precision_score\n",
    "from sklearn.metrics import recall_score\n",
    "from sklearn.metrics import roc_curve\n",
    "from sklearn.metrics import auc\n",
    "\n",
    "import matplotlib.pyplot as plt\n",
    "%matplotlib inline\n",
    "\n",
    "def plot_roc(fpr, tpr):\n",
    "    fig, ax = plt.subplots()\n",
    "\n",
    "    roc_auc = auc(fpr,tpr)\n",
    "\n",
    "    ax.plot(fpr, tpr, lw=2, label= 'area under curve = %0.4f' % roc_auc)\n",
    "\n",
    "    ax.grid(color='0.7', linestyle='--', linewidth=1)\n",
    "\n",
    "    ax.set_xlim([-0.1, 1.1])\n",
    "    ax.set_ylim([0.0, 1.05])\n",
    "    ax.set_xlabel('False Positive Rate',fontsize=15)\n",
    "    ax.set_ylabel('True Positive Rate',fontsize=15)\n",
    "\n",
    "    ax.legend(loc=\"lower right\")\n",
    "\n",
    "    for label in ax.get_xticklabels()+ax.get_yticklabels():\n",
    "        label.set_fontsize(15)\n",
    "\n",
    "def fit_predict_and_plot_roc(pipe, train_data, train_label, test_data, test_label):\n",
    "    pipe.fit(train_data, train_label)\n",
    "    # pipeline1.predict(twenty_test.data)\n",
    "\n",
    "    if hasattr(pipe, 'decision_function'):\n",
    "        prob_score = pipe.decision_function(test_data)\n",
    "        fpr, tpr, _ = roc_curve(test_label, prob_score)\n",
    "    else:\n",
    "        prob_score = pipe.predict_proba(test_data)\n",
    "        fpr, tpr, _ = roc_curve(test_label, prob_score[:,1])\n",
    "\n",
    "    plot_roc(fpr, tpr)"
   ]
  },
  {
   "cell_type": "markdown",
   "metadata": {},
   "source": [
    "### Hard Margin ROC Plot"
   ]
  },
  {
   "cell_type": "code",
   "execution_count": 24,
   "metadata": {},
   "outputs": [
    {
     "data": {
      "image/png": "[encoded data removed]",
      "text/plain": [
       "<Figure size 432x288 with 1 Axes>"
      ]
     },
     "metadata": {
      "needs_background": "light"
     },
     "output_type": "display_data"
    }
   ],
   "source": [
    "fit_predict_and_plot_roc(Hpipeline, train_dataset.data, y_train_dataset, test_dataset.data, y_test_dataset)"
   ]
  },
  {
   "cell_type": "markdown",
   "metadata": {},
   "source": [
    "### Soft Margin ROC Plot"
   ]
  },
  {
   "cell_type": "code",
   "execution_count": 26,
   "metadata": {},
   "outputs": [
    {
     "data": {
      "image/png": "[encoded data removed]",
      "text/plain": [
       "<Figure size 432x288 with 1 Axes>"
      ]
     },
     "metadata": {
      "needs_background": "light"
     },
     "output_type": "display_data"
    }
   ],
   "source": [
    "fit_predict_and_plot_roc(Spipeline, train_dataset.data, y_train_dataset, test_dataset.data, y_test_dataset)"
   ]
  },
  {
   "cell_type": "markdown",
   "metadata": {},
   "source": [
    "### Hard/Soft Margin Confusion Matrix, Accuracy, Recall, Precision, and F1 Score"
   ]
  },
  {
   "cell_type": "code",
   "execution_count": 28,
   "metadata": {},
   "outputs": [
    {
     "name": "stdout",
     "output_type": "stream",
     "text": [
      "HARD MARGIN SVM CLASSIFIER\n",
      "-------------------------\n",
      "\n",
      "Hard Margin Confusion Matrix:\n",
      "[[1490   70]\n",
      " [  52 1538]]\n",
      "\n",
      "Hard Margin Scores\n",
      "- Accuracy:  0.961270\n",
      "- Recall:    0.967296\n",
      "- Precision: 0.956468\n",
      "- F-1:       0.961851\n",
      "\n",
      "\n",
      "SOFT MARGIN SVM CLASSIFIER\n",
      "-------------------------\n",
      "\n",
      "Soft Margin Confusion Matrix:\n",
      "[[   0 1560]\n",
      " [   0 1590]]\n",
      "\n",
      "Soft Margin Scores\n",
      "- Accuracy:  0.504762\n",
      "- Recall:    1.000000\n",
      "- Precision: 0.504762\n",
      "- F-1:       0.670886\n"
     ]
    }
   ],
   "source": [
    "from sklearn.metrics import confusion_matrix\n",
    "\n",
    "# predict class for test dataset\n",
    "Hpredict = Hpipeline.predict(test_dataset.data)\n",
    "Spredict = Spipeline.predict(test_dataset.data)\n",
    "\n",
    "# compute confusion matrix\n",
    "HconfMatrix = confusion_matrix(y_test_dataset, Hpredict)\n",
    "SconfMatrix = confusion_matrix(y_test_dataset, Spredict)\n",
    "\n",
    "#------------------------------------------------------------------------------#\n",
    "\n",
    "from sklearn.metrics import accuracy_score\n",
    "from sklearn.metrics import recall_score\n",
    "from sklearn.metrics import precision_score\n",
    "from sklearn.metrics import f1_score\n",
    "\n",
    "# Hard Margin Confusion Matrix/Scores\n",
    "print('HARD MARGIN SVM CLASSIFIER')\n",
    "print('-'*25)\n",
    "print('\\nHard Margin Confusion Matrix:')\n",
    "print(HconfMatrix)\n",
    "\n",
    "# Hard Margin Scores\n",
    "print('\\nHard Margin Scores')\n",
    "print(\"%-12s %f\" % ('- Accuracy:', accuracy_score(y_test_dataset, Hpredict)))\n",
    "print(\"%-12s %f\" % ('- Recall:', recall_score(y_test_dataset, Hpredict)))\n",
    "print(\"%-12s %f\" % ('- Precision:', precision_score(y_test_dataset, Hpredict)))\n",
    "print(\"%-12s %f\" % ('- F-1:', f1_score(y_test_dataset, Hpredict)))\n",
    "\n",
    "# Soft Margin Confusion Matrix/Scores\n",
    "print('\\n\\nSOFT MARGIN SVM CLASSIFIER')\n",
    "print('-'*25)\n",
    "print('\\nSoft Margin Confusion Matrix:')\n",
    "print(SconfMatrix)\n",
    "\n",
    "# Soft Margin Scores\n",
    "print('\\nSoft Margin Scores')\n",
    "print(\"%-12s %f\" % ('- Accuracy:', accuracy_score(y_test_dataset, Spredict)))\n",
    "print(\"%-12s %f\" % ('- Recall:', recall_score(y_test_dataset, Spredict)))\n",
    "print(\"%-12s %f\" % ('- Precision:', precision_score(y_test_dataset, Spredict)))\n",
    "print(\"%-12s %f\" % ('- F-1:', f1_score(y_test_dataset, Spredict)))"
   ]
  },
  {
   "cell_type": "markdown",
   "metadata": {},
   "source": [
    "### Using Cross Validation to Choose Optimal Gamma"
   ]
  },
  {
   "cell_type": "code",
   "execution_count": 29,
   "metadata": {},
   "outputs": [
    {
     "name": "stderr",
     "output_type": "stream",
     "text": [
      "C:\\Users\\Administrator\\Anaconda3\\lib\\site-packages\\ipykernel_launcher.py:11: DeprecationWarning: The 'cachedir' parameter has been deprecated in version 0.12 and will be removed in version 0.14.\n",
      "You provided \"cachedir='C:\\\\Users\\\\ADMINI~1\\\\AppData\\\\Local\\\\Temp\\\\tmpxto2xete'\", use \"location='C:\\\\Users\\\\ADMINI~1\\\\AppData\\\\Local\\\\Temp\\\\tmpxto2xete'\" instead.\n",
      "  # This is added back by InteractiveShellApp.init_path()\n"
     ]
    },
    {
     "name": "stdout",
     "output_type": "stream",
     "text": [
      "________________________________________________________________________________\n",
      "[Memory] Calling sklearn.pipeline._fit_transform_one...\n",
      "_fit_transform_one(CountVectorizer(analyzer=<function stem_remove_punc at 0x000000000D380730>,\n",
      "        binary=False, decode_error='strict', dtype=<class 'numpy.int64'>,\n",
      "        encoding='utf-8', input='content', lowercase=True, max_df=1.0,\n",
      "        max_features=None, min_df=3, ngram_range=(1, 1), preprocessor=None,\n",
      "        stop_words='english', strip_accents=None,\n",
      "        token_pattern='(?u)\\\\b\\\\w\\\\w+\\\\b', tokenizer=None, vocabulary=None), \n",
      "[ 'From: rschmitt@shearson.com (Robert Schmitt)\\n'\n",
      "  'Subject: Re: Please Recommend 3D Graphics Library F\\n'\n",
      "  'Reply-To: rschmitt@shearson.com\\n'\n",
      "  'Organization: Lehman Brothers, Inc.\\n'\n",
      "  'Lines: 9\\n'\n",
      "  '\\n'\n",
      "  'What hardware do plan to run on?  Workstation or PC?  Cost level?\\n'\n",
      "  'Run-time licensing needs?\\n'\n",
      "  '\\n'\n",
      "  'Bob\\n'\n",
      "  '------------------------------------------------------------------\\n'\n",
      "  'Robert A. Schmitt | Applied Derivatives Technology | Lehman Brothers\\n'\n",
      "  'rschmitt@shearson.com\\n'\n",
      "  '\\n'\n",
      "  '\\n',\n",
      "  'From: mori@volga.mfd.cs.fujitsu.co.jp (Tsuyoshi Mori)\\n'\n",
      "  'Subject: I want use DeskJet on System7\\n'\n",
      "  'Organization: FUJITSU.Ltd., Kawasaki, Japan.\\n'\n",
      "  'Lines: 15\\n'\n",
      "  'Di..., \n",
      "array([0, ..., 0], dtype=int64), None)\n"
     ]
    },
    {
     "name": "stderr",
     "output_type": "stream",
     "text": [
      "C:\\Users\\Administrator\\Anaconda3\\lib\\site-packages\\sklearn\\pipeline.py:230: UserWarning: Persisting input arguments took 4.67s to run.\n",
      "If this happens often in your code, it can cause performance problems \n",
      "(results will be correct in all cases). \n",
      "The reason for this is probably some large input arguments for a wrapped\n",
      " function (e.g. large strings).\n",
      "THIS IS A JOBLIB ISSUE. If you can, kindly provide the joblib's team with an\n",
      " example so that they can fix the problem.\n",
      "  **fit_params_steps[name])\n"
     ]
    },
    {
     "name": "stdout",
     "output_type": "stream",
     "text": [
      "_______________________________________________fit_transform_one - 69.6s, 1.2min\n",
      "________________________________________________________________________________\n",
      "[Memory] Calling sklearn.pipeline._fit_transform_one...\n",
      "_fit_transform_one(TfidfTransformer(norm='l2', smooth_idf=True, sublinear_tf=False, use_idf=True), <3785x14166 sparse matrix of type '<class 'numpy.int64'>'\n",
      "\twith 288278 stored elements in Compressed Sparse Row format>, \n",
      "array([0, ..., 0], dtype=int64), None)\n",
      "________________________________________________fit_transform_one - 0.0s, 0.0min\n",
      "________________________________________________________________________________\n",
      "[Memory] Calling sklearn.pipeline._fit_transform_one...\n",
      "_fit_transform_one(NMF(alpha=0.0, beta_loss='frobenius', init='random', l1_ratio=0.0,\n",
      "  max_iter=200, n_components=50, random_state=0, shuffle=False,\n",
      "  solver='cd', tol=0.0001, verbose=0), \n",
      "<3785x14166 sparse matrix of type '<class 'numpy.float64'>'\n",
      "\twith 288278 stored elements in Compressed Sparse Row format>, \n",
      "array([0, ..., 0], dtype=int64), None)\n",
      "_______________________________________________fit_transform_one - 11.7s, 0.2min\n",
      "________________________________________________________________________________\n",
      "[Memory] Calling sklearn.pipeline._fit_transform_one...\n",
      "_fit_transform_one(SparseToDenseArray(), array([[0.000236, ..., 0.      ],\n",
      "       ...,\n",
      "       [0.      , ..., 0.      ]]), array([0, ..., 0], dtype=int64), None)\n",
      "________________________________________________fit_transform_one - 0.0s, 0.0min\n",
      "________________________________________________________________________________\n",
      "[Memory] Calling sklearn.pipeline._fit_transform_one...\n",
      "_fit_transform_one(CountVectorizer(analyzer=<function stem_remove_punc at 0x000000000D380730>,\n",
      "        binary=False, decode_error='strict', dtype=<class 'numpy.int64'>,\n",
      "        encoding='utf-8', input='content', lowercase=True, max_df=1.0,\n",
      "        max_features=None, min_df=3, ngram_range=(1, 1), preprocessor=None,\n",
      "        stop_words='english', strip_accents=None,\n",
      "        token_pattern='(?u)\\\\b\\\\w\\\\w+\\\\b', tokenizer=None, vocabulary=None), \n",
      "[ 'From: sac@asdi.saic.com (Steve A. Conroy x6172)\\n'\n",
      "  'Subject: Re: Darrrrrrrrryl\\n'\n",
      "  'Organization: SAIC\\n'\n",
      "  'Lines: 33\\n'\n",
      "  '\\n'\n",
      "  'In article <mssC5KCru.5Ip@netcom.com>, mss@netcom.com (Mark Singer) '\n",
      "  'writes:\\n'\n",
      "  '|> \\n'\n",
      "  '|> \\n'\n",
      "  '|> The media is beating the incident at Dodger Stadium on Wednesday to\\n'\n",
      "  \"|> death, but I haven't seen anything in rsb yet.\\n\"\n",
      "  '|> \\n'\n",
      "  '|> Gerald Perry of the Cardinals pinch hit in the eighth inning with two\\n'\n",
      "  '|> on and his club down by a run.  He stroked a line drive into the\\n'\n",
      "  '|> right field corner.  The ball cleared the three-foot high fence and\\n'\n",
      "  '|> went into the crowd.  Darryl, racing over from right center, got to\\n'\n",
      "  '|> th..., \n",
      "array([1, ..., 0], dtype=int64), None)\n"
     ]
    },
    {
     "name": "stderr",
     "output_type": "stream",
     "text": [
      "C:\\Users\\Administrator\\Anaconda3\\lib\\site-packages\\sklearn\\pipeline.py:230: UserWarning: Persisting input arguments took 2.33s to run.\n",
      "If this happens often in your code, it can cause performance problems \n",
      "(results will be correct in all cases). \n",
      "The reason for this is probably some large input arguments for a wrapped\n",
      " function (e.g. large strings).\n",
      "THIS IS A JOBLIB ISSUE. If you can, kindly provide the joblib's team with an\n",
      " example so that they can fix the problem.\n",
      "  **fit_params_steps[name])\n"
     ]
    },
    {
     "name": "stdout",
     "output_type": "stream",
     "text": [
      "_______________________________________________fit_transform_one - 67.3s, 1.1min\n",
      "________________________________________________________________________________\n",
      "[Memory] Calling sklearn.pipeline._fit_transform_one...\n",
      "_fit_transform_one(TfidfTransformer(norm='l2', smooth_idf=True, sublinear_tf=False, use_idf=True), <3785x13749 sparse matrix of type '<class 'numpy.int64'>'\n",
      "\twith 283653 stored elements in Compressed Sparse Row format>, \n",
      "array([1, ..., 0], dtype=int64), None)\n",
      "________________________________________________fit_transform_one - 0.0s, 0.0min\n",
      "________________________________________________________________________________\n",
      "[Memory] Calling sklearn.pipeline._fit_transform_one...\n",
      "_fit_transform_one(NMF(alpha=0.0, beta_loss='frobenius', init='random', l1_ratio=0.0,\n",
      "  max_iter=200, n_components=50, random_state=0, shuffle=False,\n",
      "  solver='cd', tol=0.0001, verbose=0), \n",
      "<3785x13749 sparse matrix of type '<class 'numpy.float64'>'\n",
      "\twith 283653 stored elements in Compressed Sparse Row format>, \n",
      "array([1, ..., 0], dtype=int64), None)\n",
      "_______________________________________________fit_transform_one - 13.4s, 0.2min\n",
      "________________________________________________________________________________\n",
      "[Memory] Calling sklearn.pipeline._fit_transform_one...\n",
      "_fit_transform_one(SparseToDenseArray(), array([[0.074932, ..., 0.024482],\n",
      "       ...,\n",
      "       [0.      , ..., 0.036954]]), array([1, ..., 0], dtype=int64), None)\n",
      "________________________________________________fit_transform_one - 0.0s, 0.0min\n",
      "________________________________________________________________________________\n",
      "[Memory] Calling sklearn.pipeline._fit_transform_one...\n",
      "_fit_transform_one(CountVectorizer(analyzer=<function stem_remove_punc at 0x000000000D380730>,\n",
      "        binary=False, decode_error='strict', dtype=<class 'numpy.int64'>,\n",
      "        encoding='utf-8', input='content', lowercase=True, max_df=1.0,\n",
      "        max_features=None, min_df=3, ngram_range=(1, 1), preprocessor=None,\n",
      "        stop_words='english', strip_accents=None,\n",
      "        token_pattern='(?u)\\\\b\\\\w\\\\w+\\\\b', tokenizer=None, vocabulary=None), \n",
      "[ 'From: sac@asdi.saic.com (Steve A. Conroy x6172)\\n'\n",
      "  'Subject: Re: Darrrrrrrrryl\\n'\n",
      "  'Organization: SAIC\\n'\n",
      "  'Lines: 33\\n'\n",
      "  '\\n'\n",
      "  'In article <mssC5KCru.5Ip@netcom.com>, mss@netcom.com (Mark Singer) '\n",
      "  'writes:\\n'\n",
      "  '|> \\n'\n",
      "  '|> \\n'\n",
      "  '|> The media is beating the incident at Dodger Stadium on Wednesday to\\n'\n",
      "  \"|> death, but I haven't seen anything in rsb yet.\\n\"\n",
      "  '|> \\n'\n",
      "  '|> Gerald Perry of the Cardinals pinch hit in the eighth inning with two\\n'\n",
      "  '|> on and his club down by a run.  He stroked a line drive into the\\n'\n",
      "  '|> right field corner.  The ball cleared the three-foot high fence and\\n'\n",
      "  '|> went into the crowd.  Darryl, racing over from right center, got to\\n'\n",
      "  '|> th..., \n",
      "array([1, ..., 0], dtype=int64), None)\n"
     ]
    },
    {
     "name": "stderr",
     "output_type": "stream",
     "text": [
      "C:\\Users\\Administrator\\Anaconda3\\lib\\site-packages\\sklearn\\pipeline.py:230: UserWarning: Persisting input arguments took 2.40s to run.\n",
      "If this happens often in your code, it can cause performance problems \n",
      "(results will be correct in all cases). \n",
      "The reason for this is probably some large input arguments for a wrapped\n",
      " function (e.g. large strings).\n",
      "THIS IS A JOBLIB ISSUE. If you can, kindly provide the joblib's team with an\n",
      " example so that they can fix the problem.\n",
      "  **fit_params_steps[name])\n"
     ]
    },
    {
     "name": "stdout",
     "output_type": "stream",
     "text": [
      "_______________________________________________fit_transform_one - 68.2s, 1.1min\n",
      "________________________________________________________________________________\n",
      "[Memory] Calling sklearn.pipeline._fit_transform_one...\n",
      "_fit_transform_one(TfidfTransformer(norm='l2', smooth_idf=True, sublinear_tf=False, use_idf=True), <3785x14252 sparse matrix of type '<class 'numpy.int64'>'\n",
      "\twith 287786 stored elements in Compressed Sparse Row format>, \n",
      "array([1, ..., 0], dtype=int64), None)\n",
      "________________________________________________fit_transform_one - 0.0s, 0.0min\n",
      "________________________________________________________________________________\n",
      "[Memory] Calling sklearn.pipeline._fit_transform_one...\n",
      "_fit_transform_one(NMF(alpha=0.0, beta_loss='frobenius', init='random', l1_ratio=0.0,\n",
      "  max_iter=200, n_components=50, random_state=0, shuffle=False,\n",
      "  solver='cd', tol=0.0001, verbose=0), \n",
      "<3785x14252 sparse matrix of type '<class 'numpy.float64'>'\n",
      "\twith 287786 stored elements in Compressed Sparse Row format>, \n",
      "array([1, ..., 0], dtype=int64), None)\n",
      "________________________________________________fit_transform_one - 8.3s, 0.1min\n",
      "________________________________________________________________________________\n",
      "[Memory] Calling sklearn.pipeline._fit_transform_one...\n",
      "_fit_transform_one(SparseToDenseArray(), array([[0.065521, ..., 0.      ],\n",
      "       ...,\n",
      "       [0.      , ..., 0.      ]]), array([1, ..., 0], dtype=int64), None)\n",
      "________________________________________________fit_transform_one - 0.0s, 0.0min\n",
      "________________________________________________________________________________\n",
      "[Memory] Calling sklearn.pipeline._fit_transform_one...\n",
      "_fit_transform_one(CountVectorizer(analyzer=<function stem_remove_punc at 0x000000000D380730>,\n",
      "        binary=False, decode_error='strict', dtype=<class 'numpy.int64'>,\n",
      "        encoding='utf-8', input='content', lowercase=True, max_df=1.0,\n",
      "        max_features=None, min_df=3, ngram_range=(1, 1), preprocessor=None,\n",
      "        stop_words='english', strip_accents=None,\n",
      "        token_pattern='(?u)\\\\b\\\\w\\\\w+\\\\b', tokenizer=None, vocabulary=None), \n",
      "[ 'From: sac@asdi.saic.com (Steve A. Conroy x6172)\\n'\n",
      "  'Subject: Re: Darrrrrrrrryl\\n'\n",
      "  'Organization: SAIC\\n'\n",
      "  'Lines: 33\\n'\n",
      "  '\\n'\n",
      "  'In article <mssC5KCru.5Ip@netcom.com>, mss@netcom.com (Mark Singer) '\n",
      "  'writes:\\n'\n",
      "  '|> \\n'\n",
      "  '|> \\n'\n",
      "  '|> The media is beating the incident at Dodger Stadium on Wednesday to\\n'\n",
      "  \"|> death, but I haven't seen anything in rsb yet.\\n\"\n",
      "  '|> \\n'\n",
      "  '|> Gerald Perry of the Cardinals pinch hit in the eighth inning with two\\n'\n",
      "  '|> on and his club down by a run.  He stroked a line drive into the\\n'\n",
      "  '|> right field corner.  The ball cleared the three-foot high fence and\\n'\n",
      "  '|> went into the crowd.  Darryl, racing over from right center, got to\\n'\n",
      "  '|> th..., \n",
      "array([1, ..., 0], dtype=int64), None)\n"
     ]
    },
    {
     "name": "stderr",
     "output_type": "stream",
     "text": [
      "C:\\Users\\Administrator\\Anaconda3\\lib\\site-packages\\sklearn\\pipeline.py:230: UserWarning: Persisting input arguments took 2.43s to run.\n",
      "If this happens often in your code, it can cause performance problems \n",
      "(results will be correct in all cases). \n",
      "The reason for this is probably some large input arguments for a wrapped\n",
      " function (e.g. large strings).\n",
      "THIS IS A JOBLIB ISSUE. If you can, kindly provide the joblib's team with an\n",
      " example so that they can fix the problem.\n",
      "  **fit_params_steps[name])\n"
     ]
    },
    {
     "name": "stdout",
     "output_type": "stream",
     "text": [
      "_______________________________________________fit_transform_one - 66.7s, 1.1min\n",
      "________________________________________________________________________________\n",
      "[Memory] Calling sklearn.pipeline._fit_transform_one...\n",
      "_fit_transform_one(TfidfTransformer(norm='l2', smooth_idf=True, sublinear_tf=False, use_idf=True), <3786x13840 sparse matrix of type '<class 'numpy.int64'>'\n",
      "\twith 286944 stored elements in Compressed Sparse Row format>, \n",
      "array([1, ..., 0], dtype=int64), None)\n",
      "________________________________________________fit_transform_one - 0.0s, 0.0min\n",
      "________________________________________________________________________________\n",
      "[Memory] Calling sklearn.pipeline._fit_transform_one...\n",
      "_fit_transform_one(NMF(alpha=0.0, beta_loss='frobenius', init='random', l1_ratio=0.0,\n",
      "  max_iter=200, n_components=50, random_state=0, shuffle=False,\n",
      "  solver='cd', tol=0.0001, verbose=0), \n",
      "<3786x13840 sparse matrix of type '<class 'numpy.float64'>'\n",
      "\twith 286944 stored elements in Compressed Sparse Row format>, \n",
      "array([1, ..., 0], dtype=int64), None)\n",
      "_______________________________________________fit_transform_one - 15.9s, 0.3min\n",
      "________________________________________________________________________________\n",
      "[Memory] Calling sklearn.pipeline._fit_transform_one...\n",
      "_fit_transform_one(SparseToDenseArray(), array([[0.101551, ..., 0.      ],\n",
      "       ...,\n",
      "       [0.      , ..., 0.      ]]), array([1, ..., 0], dtype=int64), None)\n",
      "________________________________________________fit_transform_one - 0.0s, 0.0min\n",
      "________________________________________________________________________________\n",
      "[Memory] Calling sklearn.pipeline._fit_transform_one...\n",
      "_fit_transform_one(CountVectorizer(analyzer=<function stem_remove_punc at 0x000000000D380730>,\n",
      "        binary=False, decode_error='strict', dtype=<class 'numpy.int64'>,\n",
      "        encoding='utf-8', input='content', lowercase=True, max_df=1.0,\n",
      "        max_features=None, min_df=3, ngram_range=(1, 1), preprocessor=None,\n",
      "        stop_words='english', strip_accents=None,\n",
      "        token_pattern='(?u)\\\\b\\\\w\\\\w+\\\\b', tokenizer=None, vocabulary=None), \n",
      "[ 'From: sac@asdi.saic.com (Steve A. Conroy x6172)\\n'\n",
      "  'Subject: Re: Darrrrrrrrryl\\n'\n",
      "  'Organization: SAIC\\n'\n",
      "  'Lines: 33\\n'\n",
      "  '\\n'\n",
      "  'In article <mssC5KCru.5Ip@netcom.com>, mss@netcom.com (Mark Singer) '\n",
      "  'writes:\\n'\n",
      "  '|> \\n'\n",
      "  '|> \\n'\n",
      "  '|> The media is beating the incident at Dodger Stadium on Wednesday to\\n'\n",
      "  \"|> death, but I haven't seen anything in rsb yet.\\n\"\n",
      "  '|> \\n'\n",
      "  '|> Gerald Perry of the Cardinals pinch hit in the eighth inning with two\\n'\n",
      "  '|> on and his club down by a run.  He stroked a line drive into the\\n'\n",
      "  '|> right field corner.  The ball cleared the three-foot high fence and\\n'\n",
      "  '|> went into the crowd.  Darryl, racing over from right center, got to\\n'\n",
      "  '|> th..., \n",
      "array([1, ..., 1], dtype=int64), None)\n"
     ]
    },
    {
     "name": "stderr",
     "output_type": "stream",
     "text": [
      "C:\\Users\\Administrator\\Anaconda3\\lib\\site-packages\\sklearn\\pipeline.py:230: UserWarning: Persisting input arguments took 2.35s to run.\n",
      "If this happens often in your code, it can cause performance problems \n",
      "(results will be correct in all cases). \n",
      "The reason for this is probably some large input arguments for a wrapped\n",
      " function (e.g. large strings).\n",
      "THIS IS A JOBLIB ISSUE. If you can, kindly provide the joblib's team with an\n",
      " example so that they can fix the problem.\n",
      "  **fit_params_steps[name])\n"
     ]
    },
    {
     "name": "stdout",
     "output_type": "stream",
     "text": [
      "_______________________________________________fit_transform_one - 64.1s, 1.1min\n",
      "________________________________________________________________________________\n",
      "[Memory] Calling sklearn.pipeline._fit_transform_one...\n",
      "_fit_transform_one(TfidfTransformer(norm='l2', smooth_idf=True, sublinear_tf=False, use_idf=True), <3787x13960 sparse matrix of type '<class 'numpy.int64'>'\n",
      "\twith 287874 stored elements in Compressed Sparse Row format>, \n",
      "array([1, ..., 1], dtype=int64), None)\n",
      "________________________________________________fit_transform_one - 0.0s, 0.0min\n",
      "________________________________________________________________________________\n",
      "[Memory] Calling sklearn.pipeline._fit_transform_one...\n",
      "_fit_transform_one(NMF(alpha=0.0, beta_loss='frobenius', init='random', l1_ratio=0.0,\n",
      "  max_iter=200, n_components=50, random_state=0, shuffle=False,\n",
      "  solver='cd', tol=0.0001, verbose=0), \n",
      "<3787x13960 sparse matrix of type '<class 'numpy.float64'>'\n",
      "\twith 287874 stored elements in Compressed Sparse Row format>, \n",
      "array([1, ..., 1], dtype=int64), None)\n",
      "_______________________________________________fit_transform_one - 14.7s, 0.2min\n",
      "________________________________________________________________________________\n",
      "[Memory] Calling sklearn.pipeline._fit_transform_one...\n",
      "_fit_transform_one(SparseToDenseArray(), array([[0.069455, ..., 0.      ],\n",
      "       ...,\n",
      "       [0.      , ..., 0.      ]]), array([1, ..., 1], dtype=int64), None)\n",
      "________________________________________________fit_transform_one - 0.0s, 0.0min\n",
      "[Memory]0.3s, 0.0min    : Loading _fit_transform_one from C:\\Users\\ADMINI~1\\AppData\\Local\\Temp\\tmpxto2xete\\joblib\\sklearn\\pipeline\\_fit_transform_one\\c4de34882a41360480d0b218b5dcba9f\n",
      "___________________________________fit_transform_one cache loaded - 0.3s, 0.0min\n",
      "[Memory]0.8s, 0.0min    : Loading _fit_transform_one from C:\\Users\\ADMINI~1\\AppData\\Local\\Temp\\tmpxto2xete\\joblib\\sklearn\\pipeline\\_fit_transform_one\\0f14909bbb743bdb05883ac009d73b41\n",
      "___________________________________fit_transform_one cache loaded - 0.0s, 0.0min\n",
      "[Memory]0.8s, 0.0min    : Loading _fit_transform_one from C:\\Users\\ADMINI~1\\AppData\\Local\\Temp\\tmpxto2xete\\joblib\\sklearn\\pipeline\\_fit_transform_one\\75b6f1fee72bfa67f4824dc6303d43e2\n",
      "___________________________________fit_transform_one cache loaded - 0.0s, 0.0min\n",
      "[Memory]0.9s, 0.0min    : Loading _fit_transform_one from C:\\Users\\ADMINI~1\\AppData\\Local\\Temp\\tmpxto2xete\\joblib\\sklearn\\pipeline\\_fit_transform_one\\2a79e191b1a692974a56fa8939a2be96\n",
      "___________________________________fit_transform_one cache loaded - 0.0s, 0.0min\n",
      "[Memory]0.0s, 0.0min    : Loading _fit_transform_one from C:\\Users\\ADMINI~1\\AppData\\Local\\Temp\\tmpxto2xete\\joblib\\sklearn\\pipeline\\_fit_transform_one\\388152414fd563a3a6e166fdb908fb5b\n",
      "___________________________________fit_transform_one cache loaded - 0.3s, 0.0min\n",
      "[Memory]0.5s, 0.0min    : Loading _fit_transform_one from C:\\Users\\ADMINI~1\\AppData\\Local\\Temp\\tmpxto2xete\\joblib\\sklearn\\pipeline\\_fit_transform_one\\0d658a773eff05bffc12b7e0c4853252\n",
      "___________________________________fit_transform_one cache loaded - 0.0s, 0.0min\n",
      "[Memory]0.5s, 0.0min    : Loading _fit_transform_one from C:\\Users\\ADMINI~1\\AppData\\Local\\Temp\\tmpxto2xete\\joblib\\sklearn\\pipeline\\_fit_transform_one\\3da25657ed4347aea9d9d765358799a6\n",
      "___________________________________fit_transform_one cache loaded - 0.0s, 0.0min\n",
      "[Memory]0.6s, 0.0min    : Loading _fit_transform_one from C:\\Users\\ADMINI~1\\AppData\\Local\\Temp\\tmpxto2xete\\joblib\\sklearn\\pipeline\\_fit_transform_one\\1975baf3a218950523d7dd070e6b1c71\n",
      "___________________________________fit_transform_one cache loaded - 0.0s, 0.0min\n",
      "[Memory]0.0s, 0.0min    : Loading _fit_transform_one from C:\\Users\\ADMINI~1\\AppData\\Local\\Temp\\tmpxto2xete\\joblib\\sklearn\\pipeline\\_fit_transform_one\\7a3c707847eae0e7865340006b76b5a1\n",
      "___________________________________fit_transform_one cache loaded - 0.3s, 0.0min\n",
      "[Memory]0.5s, 0.0min    : Loading _fit_transform_one from C:\\Users\\ADMINI~1\\AppData\\Local\\Temp\\tmpxto2xete\\joblib\\sklearn\\pipeline\\_fit_transform_one\\aecb379108ca8d864a0679b9041e1ecf\n",
      "___________________________________fit_transform_one cache loaded - 0.0s, 0.0min\n",
      "[Memory]0.5s, 0.0min    : Loading _fit_transform_one from C:\\Users\\ADMINI~1\\AppData\\Local\\Temp\\tmpxto2xete\\joblib\\sklearn\\pipeline\\_fit_transform_one\\056a3b834656762029b58bc65c66f4bb\n",
      "___________________________________fit_transform_one cache loaded - 0.0s, 0.0min\n",
      "[Memory]0.5s, 0.0min    : Loading _fit_transform_one from C:\\Users\\ADMINI~1\\AppData\\Local\\Temp\\tmpxto2xete\\joblib\\sklearn\\pipeline\\_fit_transform_one\\d5104e318ee04a760510ce19c21d9ae4\n",
      "___________________________________fit_transform_one cache loaded - 0.0s, 0.0min\n",
      "[Memory]0.0s, 0.0min    : Loading _fit_transform_one from C:\\Users\\ADMINI~1\\AppData\\Local\\Temp\\tmpxto2xete\\joblib\\sklearn\\pipeline\\_fit_transform_one\\b16e76b3401268255420f2c3caca38e2\n",
      "___________________________________fit_transform_one cache loaded - 0.3s, 0.0min\n",
      "[Memory]0.5s, 0.0min    : Loading _fit_transform_one from C:\\Users\\ADMINI~1\\AppData\\Local\\Temp\\tmpxto2xete\\joblib\\sklearn\\pipeline\\_fit_transform_one\\c57c4b6b7c653bf72460fbffa40bc9ad\n",
      "___________________________________fit_transform_one cache loaded - 0.0s, 0.0min\n",
      "[Memory]0.6s, 0.0min    : Loading _fit_transform_one from C:\\Users\\ADMINI~1\\AppData\\Local\\Temp\\tmpxto2xete\\joblib\\sklearn\\pipeline\\_fit_transform_one\\136e01fb931ffef940ad98196eef43c9\n",
      "___________________________________fit_transform_one cache loaded - 0.0s, 0.0min\n",
      "[Memory]0.6s, 0.0min    : Loading _fit_transform_one from C:\\Users\\ADMINI~1\\AppData\\Local\\Temp\\tmpxto2xete\\joblib\\sklearn\\pipeline\\_fit_transform_one\\8cd137c5b28d8eeb2bdb83740f5fa914\n",
      "___________________________________fit_transform_one cache loaded - 0.0s, 0.0min\n",
      "[Memory]0.0s, 0.0min    : Loading _fit_transform_one from C:\\Users\\ADMINI~1\\AppData\\Local\\Temp\\tmpxto2xete\\joblib\\sklearn\\pipeline\\_fit_transform_one\\1ef47ebb7d0bb1c2daf16a5e431f3e77\n",
      "___________________________________fit_transform_one cache loaded - 0.3s, 0.0min\n",
      "[Memory]0.5s, 0.0min    : Loading _fit_transform_one from C:\\Users\\ADMINI~1\\AppData\\Local\\Temp\\tmpxto2xete\\joblib\\sklearn\\pipeline\\_fit_transform_one\\157c277031f0176178bc5b64e11401d8\n",
      "___________________________________fit_transform_one cache loaded - 0.0s, 0.0min\n",
      "[Memory]0.6s, 0.0min    : Loading _fit_transform_one from C:\\Users\\ADMINI~1\\AppData\\Local\\Temp\\tmpxto2xete\\joblib\\sklearn\\pipeline\\_fit_transform_one\\0dfe941b5266b9527c62fac36e6e9092\n",
      "___________________________________fit_transform_one cache loaded - 0.0s, 0.0min\n",
      "[Memory]0.6s, 0.0min    : Loading _fit_transform_one from C:\\Users\\ADMINI~1\\AppData\\Local\\Temp\\tmpxto2xete\\joblib\\sklearn\\pipeline\\_fit_transform_one\\984e4c7f00c1b102d8a1dda8ee135634\n",
      "___________________________________fit_transform_one cache loaded - 0.0s, 0.0min\n",
      "[Memory]0.0s, 0.0min    : Loading _fit_transform_one from C:\\Users\\ADMINI~1\\AppData\\Local\\Temp\\tmpxto2xete\\joblib\\sklearn\\pipeline\\_fit_transform_one\\c4de34882a41360480d0b218b5dcba9f\n",
      "___________________________________fit_transform_one cache loaded - 0.3s, 0.0min\n",
      "[Memory]0.4s, 0.0min    : Loading _fit_transform_one from C:\\Users\\ADMINI~1\\AppData\\Local\\Temp\\tmpxto2xete\\joblib\\sklearn\\pipeline\\_fit_transform_one\\0f14909bbb743bdb05883ac009d73b41\n",
      "___________________________________fit_transform_one cache loaded - 0.0s, 0.0min\n",
      "[Memory]0.4s, 0.0min    : Loading _fit_transform_one from C:\\Users\\ADMINI~1\\AppData\\Local\\Temp\\tmpxto2xete\\joblib\\sklearn\\pipeline\\_fit_transform_one\\75b6f1fee72bfa67f4824dc6303d43e2\n",
      "___________________________________fit_transform_one cache loaded - 0.0s, 0.0min\n",
      "[Memory]0.4s, 0.0min    : Loading _fit_transform_one from C:\\Users\\ADMINI~1\\AppData\\Local\\Temp\\tmpxto2xete\\joblib\\sklearn\\pipeline\\_fit_transform_one\\2a79e191b1a692974a56fa8939a2be96\n",
      "___________________________________fit_transform_one cache loaded - 0.0s, 0.0min\n",
      "[Memory]0.0s, 0.0min    : Loading _fit_transform_one from C:\\Users\\ADMINI~1\\AppData\\Local\\Temp\\tmpxto2xete\\joblib\\sklearn\\pipeline\\_fit_transform_one\\388152414fd563a3a6e166fdb908fb5b\n",
      "___________________________________fit_transform_one cache loaded - 0.3s, 0.0min\n",
      "[Memory]0.4s, 0.0min    : Loading _fit_transform_one from C:\\Users\\ADMINI~1\\AppData\\Local\\Temp\\tmpxto2xete\\joblib\\sklearn\\pipeline\\_fit_transform_one\\0d658a773eff05bffc12b7e0c4853252\n",
      "___________________________________fit_transform_one cache loaded - 0.0s, 0.0min\n",
      "[Memory]0.4s, 0.0min    : Loading _fit_transform_one from C:\\Users\\ADMINI~1\\AppData\\Local\\Temp\\tmpxto2xete\\joblib\\sklearn\\pipeline\\_fit_transform_one\\3da25657ed4347aea9d9d765358799a6\n",
      "___________________________________fit_transform_one cache loaded - 0.0s, 0.0min\n",
      "[Memory]0.4s, 0.0min    : Loading _fit_transform_one from C:\\Users\\ADMINI~1\\AppData\\Local\\Temp\\tmpxto2xete\\joblib\\sklearn\\pipeline\\_fit_transform_one\\1975baf3a218950523d7dd070e6b1c71\n",
      "___________________________________fit_transform_one cache loaded - 0.0s, 0.0min\n"
     ]
    },
    {
     "name": "stdout",
     "output_type": "stream",
     "text": [
      "[Memory]0.0s, 0.0min    : Loading _fit_transform_one from C:\\Users\\ADMINI~1\\AppData\\Local\\Temp\\tmpxto2xete\\joblib\\sklearn\\pipeline\\_fit_transform_one\\7a3c707847eae0e7865340006b76b5a1\n",
      "___________________________________fit_transform_one cache loaded - 0.3s, 0.0min\n",
      "[Memory]0.4s, 0.0min    : Loading _fit_transform_one from C:\\Users\\ADMINI~1\\AppData\\Local\\Temp\\tmpxto2xete\\joblib\\sklearn\\pipeline\\_fit_transform_one\\aecb379108ca8d864a0679b9041e1ecf\n",
      "___________________________________fit_transform_one cache loaded - 0.0s, 0.0min\n",
      "[Memory]0.4s, 0.0min    : Loading _fit_transform_one from C:\\Users\\ADMINI~1\\AppData\\Local\\Temp\\tmpxto2xete\\joblib\\sklearn\\pipeline\\_fit_transform_one\\056a3b834656762029b58bc65c66f4bb\n",
      "___________________________________fit_transform_one cache loaded - 0.0s, 0.0min\n",
      "[Memory]0.4s, 0.0min    : Loading _fit_transform_one from C:\\Users\\ADMINI~1\\AppData\\Local\\Temp\\tmpxto2xete\\joblib\\sklearn\\pipeline\\_fit_transform_one\\d5104e318ee04a760510ce19c21d9ae4\n",
      "___________________________________fit_transform_one cache loaded - 0.0s, 0.0min\n",
      "[Memory]0.0s, 0.0min    : Loading _fit_transform_one from C:\\Users\\ADMINI~1\\AppData\\Local\\Temp\\tmpxto2xete\\joblib\\sklearn\\pipeline\\_fit_transform_one\\b16e76b3401268255420f2c3caca38e2\n",
      "___________________________________fit_transform_one cache loaded - 0.3s, 0.0min\n",
      "[Memory]0.4s, 0.0min    : Loading _fit_transform_one from C:\\Users\\ADMINI~1\\AppData\\Local\\Temp\\tmpxto2xete\\joblib\\sklearn\\pipeline\\_fit_transform_one\\c57c4b6b7c653bf72460fbffa40bc9ad\n",
      "___________________________________fit_transform_one cache loaded - 0.0s, 0.0min\n",
      "[Memory]0.4s, 0.0min    : Loading _fit_transform_one from C:\\Users\\ADMINI~1\\AppData\\Local\\Temp\\tmpxto2xete\\joblib\\sklearn\\pipeline\\_fit_transform_one\\136e01fb931ffef940ad98196eef43c9\n",
      "___________________________________fit_transform_one cache loaded - 0.0s, 0.0min\n",
      "[Memory]0.4s, 0.0min    : Loading _fit_transform_one from C:\\Users\\ADMINI~1\\AppData\\Local\\Temp\\tmpxto2xete\\joblib\\sklearn\\pipeline\\_fit_transform_one\\8cd137c5b28d8eeb2bdb83740f5fa914\n",
      "___________________________________fit_transform_one cache loaded - 0.0s, 0.0min\n",
      "[Memory]0.0s, 0.0min    : Loading _fit_transform_one from C:\\Users\\ADMINI~1\\AppData\\Local\\Temp\\tmpxto2xete\\joblib\\sklearn\\pipeline\\_fit_transform_one\\1ef47ebb7d0bb1c2daf16a5e431f3e77\n",
      "___________________________________fit_transform_one cache loaded - 0.3s, 0.0min\n",
      "[Memory]0.4s, 0.0min    : Loading _fit_transform_one from C:\\Users\\ADMINI~1\\AppData\\Local\\Temp\\tmpxto2xete\\joblib\\sklearn\\pipeline\\_fit_transform_one\\157c277031f0176178bc5b64e11401d8\n",
      "___________________________________fit_transform_one cache loaded - 0.0s, 0.0min\n",
      "[Memory]0.4s, 0.0min    : Loading _fit_transform_one from C:\\Users\\ADMINI~1\\AppData\\Local\\Temp\\tmpxto2xete\\joblib\\sklearn\\pipeline\\_fit_transform_one\\0dfe941b5266b9527c62fac36e6e9092\n",
      "___________________________________fit_transform_one cache loaded - 0.0s, 0.0min\n",
      "[Memory]0.4s, 0.0min    : Loading _fit_transform_one from C:\\Users\\ADMINI~1\\AppData\\Local\\Temp\\tmpxto2xete\\joblib\\sklearn\\pipeline\\_fit_transform_one\\984e4c7f00c1b102d8a1dda8ee135634\n",
      "___________________________________fit_transform_one cache loaded - 0.0s, 0.0min\n",
      "[Memory]0.0s, 0.0min    : Loading _fit_transform_one from C:\\Users\\ADMINI~1\\AppData\\Local\\Temp\\tmpxto2xete\\joblib\\sklearn\\pipeline\\_fit_transform_one\\c4de34882a41360480d0b218b5dcba9f\n",
      "___________________________________fit_transform_one cache loaded - 0.3s, 0.0min\n",
      "[Memory]0.4s, 0.0min    : Loading _fit_transform_one from C:\\Users\\ADMINI~1\\AppData\\Local\\Temp\\tmpxto2xete\\joblib\\sklearn\\pipeline\\_fit_transform_one\\0f14909bbb743bdb05883ac009d73b41\n",
      "___________________________________fit_transform_one cache loaded - 0.0s, 0.0min\n",
      "[Memory]0.4s, 0.0min    : Loading _fit_transform_one from C:\\Users\\ADMINI~1\\AppData\\Local\\Temp\\tmpxto2xete\\joblib\\sklearn\\pipeline\\_fit_transform_one\\75b6f1fee72bfa67f4824dc6303d43e2\n",
      "___________________________________fit_transform_one cache loaded - 0.0s, 0.0min\n",
      "[Memory]0.4s, 0.0min    : Loading _fit_transform_one from C:\\Users\\ADMINI~1\\AppData\\Local\\Temp\\tmpxto2xete\\joblib\\sklearn\\pipeline\\_fit_transform_one\\2a79e191b1a692974a56fa8939a2be96\n",
      "___________________________________fit_transform_one cache loaded - 0.0s, 0.0min\n",
      "[Memory]0.0s, 0.0min    : Loading _fit_transform_one from C:\\Users\\ADMINI~1\\AppData\\Local\\Temp\\tmpxto2xete\\joblib\\sklearn\\pipeline\\_fit_transform_one\\388152414fd563a3a6e166fdb908fb5b\n",
      "___________________________________fit_transform_one cache loaded - 0.3s, 0.0min\n",
      "[Memory]0.4s, 0.0min    : Loading _fit_transform_one from C:\\Users\\ADMINI~1\\AppData\\Local\\Temp\\tmpxto2xete\\joblib\\sklearn\\pipeline\\_fit_transform_one\\0d658a773eff05bffc12b7e0c4853252\n",
      "___________________________________fit_transform_one cache loaded - 0.0s, 0.0min\n",
      "[Memory]0.4s, 0.0min    : Loading _fit_transform_one from C:\\Users\\ADMINI~1\\AppData\\Local\\Temp\\tmpxto2xete\\joblib\\sklearn\\pipeline\\_fit_transform_one\\3da25657ed4347aea9d9d765358799a6\n",
      "___________________________________fit_transform_one cache loaded - 0.0s, 0.0min\n",
      "[Memory]0.4s, 0.0min    : Loading _fit_transform_one from C:\\Users\\ADMINI~1\\AppData\\Local\\Temp\\tmpxto2xete\\joblib\\sklearn\\pipeline\\_fit_transform_one\\1975baf3a218950523d7dd070e6b1c71\n",
      "___________________________________fit_transform_one cache loaded - 0.0s, 0.0min\n",
      "[Memory]0.0s, 0.0min    : Loading _fit_transform_one from C:\\Users\\ADMINI~1\\AppData\\Local\\Temp\\tmpxto2xete\\joblib\\sklearn\\pipeline\\_fit_transform_one\\7a3c707847eae0e7865340006b76b5a1\n",
      "___________________________________fit_transform_one cache loaded - 0.3s, 0.0min\n",
      "[Memory]0.4s, 0.0min    : Loading _fit_transform_one from C:\\Users\\ADMINI~1\\AppData\\Local\\Temp\\tmpxto2xete\\joblib\\sklearn\\pipeline\\_fit_transform_one\\aecb379108ca8d864a0679b9041e1ecf\n",
      "___________________________________fit_transform_one cache loaded - 0.0s, 0.0min\n",
      "[Memory]0.4s, 0.0min    : Loading _fit_transform_one from C:\\Users\\ADMINI~1\\AppData\\Local\\Temp\\tmpxto2xete\\joblib\\sklearn\\pipeline\\_fit_transform_one\\056a3b834656762029b58bc65c66f4bb\n",
      "___________________________________fit_transform_one cache loaded - 0.0s, 0.0min\n",
      "[Memory]0.4s, 0.0min    : Loading _fit_transform_one from C:\\Users\\ADMINI~1\\AppData\\Local\\Temp\\tmpxto2xete\\joblib\\sklearn\\pipeline\\_fit_transform_one\\d5104e318ee04a760510ce19c21d9ae4\n",
      "___________________________________fit_transform_one cache loaded - 0.0s, 0.0min\n",
      "[Memory]0.0s, 0.0min    : Loading _fit_transform_one from C:\\Users\\ADMINI~1\\AppData\\Local\\Temp\\tmpxto2xete\\joblib\\sklearn\\pipeline\\_fit_transform_one\\b16e76b3401268255420f2c3caca38e2\n",
      "___________________________________fit_transform_one cache loaded - 0.3s, 0.0min\n",
      "[Memory]0.4s, 0.0min    : Loading _fit_transform_one from C:\\Users\\ADMINI~1\\AppData\\Local\\Temp\\tmpxto2xete\\joblib\\sklearn\\pipeline\\_fit_transform_one\\c57c4b6b7c653bf72460fbffa40bc9ad\n",
      "___________________________________fit_transform_one cache loaded - 0.0s, 0.0min\n",
      "[Memory]0.4s, 0.0min    : Loading _fit_transform_one from C:\\Users\\ADMINI~1\\AppData\\Local\\Temp\\tmpxto2xete\\joblib\\sklearn\\pipeline\\_fit_transform_one\\136e01fb931ffef940ad98196eef43c9\n",
      "___________________________________fit_transform_one cache loaded - 0.0s, 0.0min\n",
      "[Memory]0.4s, 0.0min    : Loading _fit_transform_one from C:\\Users\\ADMINI~1\\AppData\\Local\\Temp\\tmpxto2xete\\joblib\\sklearn\\pipeline\\_fit_transform_one\\8cd137c5b28d8eeb2bdb83740f5fa914\n",
      "___________________________________fit_transform_one cache loaded - 0.0s, 0.0min\n",
      "[Memory]0.0s, 0.0min    : Loading _fit_transform_one from C:\\Users\\ADMINI~1\\AppData\\Local\\Temp\\tmpxto2xete\\joblib\\sklearn\\pipeline\\_fit_transform_one\\1ef47ebb7d0bb1c2daf16a5e431f3e77\n",
      "___________________________________fit_transform_one cache loaded - 0.3s, 0.0min\n",
      "[Memory]0.4s, 0.0min    : Loading _fit_transform_one from C:\\Users\\ADMINI~1\\AppData\\Local\\Temp\\tmpxto2xete\\joblib\\sklearn\\pipeline\\_fit_transform_one\\157c277031f0176178bc5b64e11401d8\n",
      "___________________________________fit_transform_one cache loaded - 0.0s, 0.0min\n",
      "[Memory]0.4s, 0.0min    : Loading _fit_transform_one from C:\\Users\\ADMINI~1\\AppData\\Local\\Temp\\tmpxto2xete\\joblib\\sklearn\\pipeline\\_fit_transform_one\\0dfe941b5266b9527c62fac36e6e9092\n",
      "___________________________________fit_transform_one cache loaded - 0.0s, 0.0min\n",
      "[Memory]0.4s, 0.0min    : Loading _fit_transform_one from C:\\Users\\ADMINI~1\\AppData\\Local\\Temp\\tmpxto2xete\\joblib\\sklearn\\pipeline\\_fit_transform_one\\984e4c7f00c1b102d8a1dda8ee135634\n",
      "___________________________________fit_transform_one cache loaded - 0.0s, 0.0min\n"
     ]
    },
    {
     "name": "stdout",
     "output_type": "stream",
     "text": [
      "[Memory]0.0s, 0.0min    : Loading _fit_transform_one from C:\\Users\\ADMINI~1\\AppData\\Local\\Temp\\tmpxto2xete\\joblib\\sklearn\\pipeline\\_fit_transform_one\\c4de34882a41360480d0b218b5dcba9f\n",
      "___________________________________fit_transform_one cache loaded - 0.3s, 0.0min\n",
      "[Memory]0.4s, 0.0min    : Loading _fit_transform_one from C:\\Users\\ADMINI~1\\AppData\\Local\\Temp\\tmpxto2xete\\joblib\\sklearn\\pipeline\\_fit_transform_one\\0f14909bbb743bdb05883ac009d73b41\n",
      "___________________________________fit_transform_one cache loaded - 0.0s, 0.0min\n",
      "[Memory]0.4s, 0.0min    : Loading _fit_transform_one from C:\\Users\\ADMINI~1\\AppData\\Local\\Temp\\tmpxto2xete\\joblib\\sklearn\\pipeline\\_fit_transform_one\\75b6f1fee72bfa67f4824dc6303d43e2\n",
      "___________________________________fit_transform_one cache loaded - 0.0s, 0.0min\n",
      "[Memory]0.4s, 0.0min    : Loading _fit_transform_one from C:\\Users\\ADMINI~1\\AppData\\Local\\Temp\\tmpxto2xete\\joblib\\sklearn\\pipeline\\_fit_transform_one\\2a79e191b1a692974a56fa8939a2be96\n",
      "___________________________________fit_transform_one cache loaded - 0.0s, 0.0min\n",
      "[Memory]0.0s, 0.0min    : Loading _fit_transform_one from C:\\Users\\ADMINI~1\\AppData\\Local\\Temp\\tmpxto2xete\\joblib\\sklearn\\pipeline\\_fit_transform_one\\388152414fd563a3a6e166fdb908fb5b\n",
      "___________________________________fit_transform_one cache loaded - 0.3s, 0.0min\n",
      "[Memory]0.4s, 0.0min    : Loading _fit_transform_one from C:\\Users\\ADMINI~1\\AppData\\Local\\Temp\\tmpxto2xete\\joblib\\sklearn\\pipeline\\_fit_transform_one\\0d658a773eff05bffc12b7e0c4853252\n",
      "___________________________________fit_transform_one cache loaded - 0.0s, 0.0min\n",
      "[Memory]0.4s, 0.0min    : Loading _fit_transform_one from C:\\Users\\ADMINI~1\\AppData\\Local\\Temp\\tmpxto2xete\\joblib\\sklearn\\pipeline\\_fit_transform_one\\3da25657ed4347aea9d9d765358799a6\n",
      "___________________________________fit_transform_one cache loaded - 0.0s, 0.0min\n",
      "[Memory]0.4s, 0.0min    : Loading _fit_transform_one from C:\\Users\\ADMINI~1\\AppData\\Local\\Temp\\tmpxto2xete\\joblib\\sklearn\\pipeline\\_fit_transform_one\\1975baf3a218950523d7dd070e6b1c71\n",
      "___________________________________fit_transform_one cache loaded - 0.0s, 0.0min\n",
      "[Memory]0.0s, 0.0min    : Loading _fit_transform_one from C:\\Users\\ADMINI~1\\AppData\\Local\\Temp\\tmpxto2xete\\joblib\\sklearn\\pipeline\\_fit_transform_one\\7a3c707847eae0e7865340006b76b5a1\n",
      "___________________________________fit_transform_one cache loaded - 0.3s, 0.0min\n",
      "[Memory]0.4s, 0.0min    : Loading _fit_transform_one from C:\\Users\\ADMINI~1\\AppData\\Local\\Temp\\tmpxto2xete\\joblib\\sklearn\\pipeline\\_fit_transform_one\\aecb379108ca8d864a0679b9041e1ecf\n",
      "___________________________________fit_transform_one cache loaded - 0.0s, 0.0min\n",
      "[Memory]0.4s, 0.0min    : Loading _fit_transform_one from C:\\Users\\ADMINI~1\\AppData\\Local\\Temp\\tmpxto2xete\\joblib\\sklearn\\pipeline\\_fit_transform_one\\056a3b834656762029b58bc65c66f4bb\n",
      "___________________________________fit_transform_one cache loaded - 0.0s, 0.0min\n",
      "[Memory]0.4s, 0.0min    : Loading _fit_transform_one from C:\\Users\\ADMINI~1\\AppData\\Local\\Temp\\tmpxto2xete\\joblib\\sklearn\\pipeline\\_fit_transform_one\\d5104e318ee04a760510ce19c21d9ae4\n",
      "___________________________________fit_transform_one cache loaded - 0.0s, 0.0min\n",
      "[Memory]0.0s, 0.0min    : Loading _fit_transform_one from C:\\Users\\ADMINI~1\\AppData\\Local\\Temp\\tmpxto2xete\\joblib\\sklearn\\pipeline\\_fit_transform_one\\b16e76b3401268255420f2c3caca38e2\n",
      "___________________________________fit_transform_one cache loaded - 0.3s, 0.0min\n",
      "[Memory]0.4s, 0.0min    : Loading _fit_transform_one from C:\\Users\\ADMINI~1\\AppData\\Local\\Temp\\tmpxto2xete\\joblib\\sklearn\\pipeline\\_fit_transform_one\\c57c4b6b7c653bf72460fbffa40bc9ad\n",
      "___________________________________fit_transform_one cache loaded - 0.0s, 0.0min\n",
      "[Memory]0.4s, 0.0min    : Loading _fit_transform_one from C:\\Users\\ADMINI~1\\AppData\\Local\\Temp\\tmpxto2xete\\joblib\\sklearn\\pipeline\\_fit_transform_one\\136e01fb931ffef940ad98196eef43c9\n",
      "___________________________________fit_transform_one cache loaded - 0.0s, 0.0min\n",
      "[Memory]0.4s, 0.0min    : Loading _fit_transform_one from C:\\Users\\ADMINI~1\\AppData\\Local\\Temp\\tmpxto2xete\\joblib\\sklearn\\pipeline\\_fit_transform_one\\8cd137c5b28d8eeb2bdb83740f5fa914\n",
      "___________________________________fit_transform_one cache loaded - 0.0s, 0.0min\n",
      "[Memory]0.0s, 0.0min    : Loading _fit_transform_one from C:\\Users\\ADMINI~1\\AppData\\Local\\Temp\\tmpxto2xete\\joblib\\sklearn\\pipeline\\_fit_transform_one\\1ef47ebb7d0bb1c2daf16a5e431f3e77\n",
      "___________________________________fit_transform_one cache loaded - 0.3s, 0.0min\n",
      "[Memory]0.4s, 0.0min    : Loading _fit_transform_one from C:\\Users\\ADMINI~1\\AppData\\Local\\Temp\\tmpxto2xete\\joblib\\sklearn\\pipeline\\_fit_transform_one\\157c277031f0176178bc5b64e11401d8\n",
      "___________________________________fit_transform_one cache loaded - 0.0s, 0.0min\n",
      "[Memory]0.4s, 0.0min    : Loading _fit_transform_one from C:\\Users\\ADMINI~1\\AppData\\Local\\Temp\\tmpxto2xete\\joblib\\sklearn\\pipeline\\_fit_transform_one\\0dfe941b5266b9527c62fac36e6e9092\n",
      "___________________________________fit_transform_one cache loaded - 0.0s, 0.0min\n",
      "[Memory]0.4s, 0.0min    : Loading _fit_transform_one from C:\\Users\\ADMINI~1\\AppData\\Local\\Temp\\tmpxto2xete\\joblib\\sklearn\\pipeline\\_fit_transform_one\\984e4c7f00c1b102d8a1dda8ee135634\n",
      "___________________________________fit_transform_one cache loaded - 0.0s, 0.0min\n",
      "[Memory]0.0s, 0.0min    : Loading _fit_transform_one from C:\\Users\\ADMINI~1\\AppData\\Local\\Temp\\tmpxto2xete\\joblib\\sklearn\\pipeline\\_fit_transform_one\\c4de34882a41360480d0b218b5dcba9f\n",
      "___________________________________fit_transform_one cache loaded - 0.3s, 0.0min\n",
      "[Memory]0.4s, 0.0min    : Loading _fit_transform_one from C:\\Users\\ADMINI~1\\AppData\\Local\\Temp\\tmpxto2xete\\joblib\\sklearn\\pipeline\\_fit_transform_one\\0f14909bbb743bdb05883ac009d73b41\n",
      "___________________________________fit_transform_one cache loaded - 0.0s, 0.0min\n",
      "[Memory]0.4s, 0.0min    : Loading _fit_transform_one from C:\\Users\\ADMINI~1\\AppData\\Local\\Temp\\tmpxto2xete\\joblib\\sklearn\\pipeline\\_fit_transform_one\\75b6f1fee72bfa67f4824dc6303d43e2\n",
      "___________________________________fit_transform_one cache loaded - 0.0s, 0.0min\n",
      "[Memory]0.4s, 0.0min    : Loading _fit_transform_one from C:\\Users\\ADMINI~1\\AppData\\Local\\Temp\\tmpxto2xete\\joblib\\sklearn\\pipeline\\_fit_transform_one\\2a79e191b1a692974a56fa8939a2be96\n",
      "___________________________________fit_transform_one cache loaded - 0.0s, 0.0min\n",
      "[Memory]0.0s, 0.0min    : Loading _fit_transform_one from C:\\Users\\ADMINI~1\\AppData\\Local\\Temp\\tmpxto2xete\\joblib\\sklearn\\pipeline\\_fit_transform_one\\388152414fd563a3a6e166fdb908fb5b\n",
      "___________________________________fit_transform_one cache loaded - 0.3s, 0.0min\n",
      "[Memory]0.4s, 0.0min    : Loading _fit_transform_one from C:\\Users\\ADMINI~1\\AppData\\Local\\Temp\\tmpxto2xete\\joblib\\sklearn\\pipeline\\_fit_transform_one\\0d658a773eff05bffc12b7e0c4853252\n",
      "___________________________________fit_transform_one cache loaded - 0.0s, 0.0min\n",
      "[Memory]0.4s, 0.0min    : Loading _fit_transform_one from C:\\Users\\ADMINI~1\\AppData\\Local\\Temp\\tmpxto2xete\\joblib\\sklearn\\pipeline\\_fit_transform_one\\3da25657ed4347aea9d9d765358799a6\n",
      "___________________________________fit_transform_one cache loaded - 0.0s, 0.0min\n",
      "[Memory]0.4s, 0.0min    : Loading _fit_transform_one from C:\\Users\\ADMINI~1\\AppData\\Local\\Temp\\tmpxto2xete\\joblib\\sklearn\\pipeline\\_fit_transform_one\\1975baf3a218950523d7dd070e6b1c71\n",
      "___________________________________fit_transform_one cache loaded - 0.0s, 0.0min\n",
      "[Memory]0.0s, 0.0min    : Loading _fit_transform_one from C:\\Users\\ADMINI~1\\AppData\\Local\\Temp\\tmpxto2xete\\joblib\\sklearn\\pipeline\\_fit_transform_one\\7a3c707847eae0e7865340006b76b5a1\n",
      "___________________________________fit_transform_one cache loaded - 0.3s, 0.0min\n",
      "[Memory]0.4s, 0.0min    : Loading _fit_transform_one from C:\\Users\\ADMINI~1\\AppData\\Local\\Temp\\tmpxto2xete\\joblib\\sklearn\\pipeline\\_fit_transform_one\\aecb379108ca8d864a0679b9041e1ecf\n",
      "___________________________________fit_transform_one cache loaded - 0.0s, 0.0min\n",
      "[Memory]0.4s, 0.0min    : Loading _fit_transform_one from C:\\Users\\ADMINI~1\\AppData\\Local\\Temp\\tmpxto2xete\\joblib\\sklearn\\pipeline\\_fit_transform_one\\056a3b834656762029b58bc65c66f4bb\n",
      "___________________________________fit_transform_one cache loaded - 0.0s, 0.0min\n",
      "[Memory]0.4s, 0.0min    : Loading _fit_transform_one from C:\\Users\\ADMINI~1\\AppData\\Local\\Temp\\tmpxto2xete\\joblib\\sklearn\\pipeline\\_fit_transform_one\\d5104e318ee04a760510ce19c21d9ae4\n",
      "___________________________________fit_transform_one cache loaded - 0.0s, 0.0min\n"
     ]
    },
    {
     "name": "stdout",
     "output_type": "stream",
     "text": [
      "[Memory]0.0s, 0.0min    : Loading _fit_transform_one from C:\\Users\\ADMINI~1\\AppData\\Local\\Temp\\tmpxto2xete\\joblib\\sklearn\\pipeline\\_fit_transform_one\\b16e76b3401268255420f2c3caca38e2\n",
      "___________________________________fit_transform_one cache loaded - 0.3s, 0.0min\n",
      "[Memory]0.4s, 0.0min    : Loading _fit_transform_one from C:\\Users\\ADMINI~1\\AppData\\Local\\Temp\\tmpxto2xete\\joblib\\sklearn\\pipeline\\_fit_transform_one\\c57c4b6b7c653bf72460fbffa40bc9ad\n",
      "___________________________________fit_transform_one cache loaded - 0.0s, 0.0min\n",
      "[Memory]0.4s, 0.0min    : Loading _fit_transform_one from C:\\Users\\ADMINI~1\\AppData\\Local\\Temp\\tmpxto2xete\\joblib\\sklearn\\pipeline\\_fit_transform_one\\136e01fb931ffef940ad98196eef43c9\n",
      "___________________________________fit_transform_one cache loaded - 0.0s, 0.0min\n",
      "[Memory]0.4s, 0.0min    : Loading _fit_transform_one from C:\\Users\\ADMINI~1\\AppData\\Local\\Temp\\tmpxto2xete\\joblib\\sklearn\\pipeline\\_fit_transform_one\\8cd137c5b28d8eeb2bdb83740f5fa914\n",
      "___________________________________fit_transform_one cache loaded - 0.0s, 0.0min\n",
      "[Memory]0.0s, 0.0min    : Loading _fit_transform_one from C:\\Users\\ADMINI~1\\AppData\\Local\\Temp\\tmpxto2xete\\joblib\\sklearn\\pipeline\\_fit_transform_one\\1ef47ebb7d0bb1c2daf16a5e431f3e77\n",
      "___________________________________fit_transform_one cache loaded - 0.3s, 0.0min\n",
      "[Memory]0.4s, 0.0min    : Loading _fit_transform_one from C:\\Users\\ADMINI~1\\AppData\\Local\\Temp\\tmpxto2xete\\joblib\\sklearn\\pipeline\\_fit_transform_one\\157c277031f0176178bc5b64e11401d8\n",
      "___________________________________fit_transform_one cache loaded - 0.0s, 0.0min\n",
      "[Memory]0.4s, 0.0min    : Loading _fit_transform_one from C:\\Users\\ADMINI~1\\AppData\\Local\\Temp\\tmpxto2xete\\joblib\\sklearn\\pipeline\\_fit_transform_one\\0dfe941b5266b9527c62fac36e6e9092\n",
      "___________________________________fit_transform_one cache loaded - 0.0s, 0.0min\n",
      "[Memory]0.4s, 0.0min    : Loading _fit_transform_one from C:\\Users\\ADMINI~1\\AppData\\Local\\Temp\\tmpxto2xete\\joblib\\sklearn\\pipeline\\_fit_transform_one\\984e4c7f00c1b102d8a1dda8ee135634\n",
      "___________________________________fit_transform_one cache loaded - 0.0s, 0.0min\n",
      "________________________________________________________________________________\n",
      "[Memory] Calling sklearn.pipeline._fit_transform_one...\n",
      "_fit_transform_one(CountVectorizer(analyzer=<function stem_remove_punc at 0x000000000D380730>,\n",
      "        binary=False, decode_error='strict', dtype=<class 'numpy.int64'>,\n",
      "        encoding='utf-8', input='content', lowercase=True, max_df=1.0,\n",
      "        max_features=None, min_df=3, ngram_range=(1, 1), preprocessor=None,\n",
      "        stop_words='english', strip_accents=None,\n",
      "        token_pattern='(?u)\\\\b\\\\w\\\\w+\\\\b', tokenizer=None, vocabulary=None), \n",
      "[ 'From: sac@asdi.saic.com (Steve A. Conroy x6172)\\n'\n",
      "  'Subject: Re: Darrrrrrrrryl\\n'\n",
      "  'Organization: SAIC\\n'\n",
      "  'Lines: 33\\n'\n",
      "  '\\n'\n",
      "  'In article <mssC5KCru.5Ip@netcom.com>, mss@netcom.com (Mark Singer) '\n",
      "  'writes:\\n'\n",
      "  '|> \\n'\n",
      "  '|> \\n'\n",
      "  '|> The media is beating the incident at Dodger Stadium on Wednesday to\\n'\n",
      "  \"|> death, but I haven't seen anything in rsb yet.\\n\"\n",
      "  '|> \\n'\n",
      "  '|> Gerald Perry of the Cardinals pinch hit in the eighth inning with two\\n'\n",
      "  '|> on and his club down by a run.  He stroked a line drive into the\\n'\n",
      "  '|> right field corner.  The ball cleared the three-foot high fence and\\n'\n",
      "  '|> went into the crowd.  Darryl, racing over from right center, got to\\n'\n",
      "  '|> th..., \n",
      "array([1, ..., 0], dtype=int64), None)\n"
     ]
    },
    {
     "name": "stderr",
     "output_type": "stream",
     "text": [
      "C:\\Users\\Administrator\\Anaconda3\\lib\\site-packages\\sklearn\\pipeline.py:230: UserWarning: Persisting input arguments took 2.73s to run.\n",
      "If this happens often in your code, it can cause performance problems \n",
      "(results will be correct in all cases). \n",
      "The reason for this is probably some large input arguments for a wrapped\n",
      " function (e.g. large strings).\n",
      "THIS IS A JOBLIB ISSUE. If you can, kindly provide the joblib's team with an\n",
      " example so that they can fix the problem.\n",
      "  **fit_params_steps[name])\n"
     ]
    },
    {
     "name": "stdout",
     "output_type": "stream",
     "text": [
      "_______________________________________________fit_transform_one - 82.7s, 1.4min\n",
      "________________________________________________________________________________\n",
      "[Memory] Calling sklearn.pipeline._fit_transform_one...\n",
      "_fit_transform_one(TfidfTransformer(norm='l2', smooth_idf=True, sublinear_tf=False, use_idf=True), <4732x16292 sparse matrix of type '<class 'numpy.int64'>'\n",
      "\twith 363811 stored elements in Compressed Sparse Row format>, \n",
      "array([1, ..., 0], dtype=int64), None)\n",
      "________________________________________________fit_transform_one - 0.0s, 0.0min\n",
      "________________________________________________________________________________\n",
      "[Memory] Calling sklearn.pipeline._fit_transform_one...\n",
      "_fit_transform_one(NMF(alpha=0.0, beta_loss='frobenius', init='random', l1_ratio=0.0,\n",
      "  max_iter=200, n_components=50, random_state=0, shuffle=False,\n",
      "  solver='cd', tol=0.0001, verbose=0), \n",
      "<4732x16292 sparse matrix of type '<class 'numpy.float64'>'\n",
      "\twith 363811 stored elements in Compressed Sparse Row format>, \n",
      "array([1, ..., 0], dtype=int64), None)\n",
      "_______________________________________________fit_transform_one - 21.7s, 0.4min\n",
      "________________________________________________________________________________\n",
      "[Memory] Calling sklearn.pipeline._fit_transform_one...\n",
      "_fit_transform_one(SparseToDenseArray(), array([[0.083284, ..., 0.      ],\n",
      "       ...,\n",
      "       [0.      , ..., 0.002221]]), array([1, ..., 0], dtype=int64), None)\n",
      "________________________________________________fit_transform_one - 0.0s, 0.0min\n",
      "Best Parameters: \n",
      "{'clf__C': 100.0}\n"
     ]
    }
   ],
   "source": [
    "from sklearn.svm import LinearSVC\n",
    "from sklearn.model_selection import GridSearchCV\n",
    "import math\n",
    "\n",
    "# used to cache results\n",
    "from tempfile import mkdtemp\n",
    "from shutil import rmtree\n",
    "from sklearn.externals.joblib import Memory\n",
    "# print(__doc__)\n",
    "cachedir = mkdtemp()\n",
    "memory = Memory(cachedir=cachedir, verbose=10)\n",
    "\n",
    "Tpipeline = Pipeline([\n",
    "    ('vect', CountVectorizer(min_df=3, stop_words='english',analyzer=stem_remove_punc)),\n",
    "    ('tfidf', TfidfTransformer()),\n",
    "    ('reduce_dim', NMF(n_components=50, init='random', random_state=0)),\n",
    "    ('toarr', SparseToDenseArray()),\n",
    "    ('clf', SVC(kernel='linear', C=1000)),\n",
    "],\n",
    "memory=memory\n",
    ")\n",
    "\n",
    "# Gamma test set: {10^k | -3 <= k <= 3, k in Z}\n",
    "#C_OPTIONS = {'C': [math.pow(10, k) for k in range(-3,3)]}\n",
    "\n",
    "param_grid = [\n",
    "    {\n",
    "        'clf__C': [math.pow(10, k) for k in range(-3,3)]\n",
    "    }\n",
    "]\n",
    "\n",
    "grid = GridSearchCV(Tpipeline, cv=5, n_jobs=1, param_grid=param_grid, scoring='accuracy')\n",
    "grid.fit(train_dataset.data, y_train_dataset)\n",
    "\n",
    "print(\"Best Parameters: \")\n",
    "print(grid.best_params_)"
   ]
  },
  {
   "cell_type": "markdown",
   "metadata": {},
   "source": [
    "### Optimal Margin SVM"
   ]
  },
  {
   "cell_type": "code",
   "execution_count": 30,
   "metadata": {},
   "outputs": [],
   "source": [
    "Optpipeline = Pipeline([\n",
    "    ('vect', CountVectorizer(min_df=3, stop_words='english',analyzer=stem_remove_punc)),\n",
    "    ('tfidf', TfidfTransformer()),\n",
    "    ('reduce_dim', NMF(n_components=50, init='random', random_state=0)),\n",
    "    ('toarr', SparseToDenseArray()),\n",
    "    ('clf', SVC(kernel='linear', C=100)),\n",
    "])"
   ]
  },
  {
   "cell_type": "markdown",
   "metadata": {},
   "source": [
    "### Optimal Margin ROC"
   ]
  },
  {
   "cell_type": "code",
   "execution_count": 31,
   "metadata": {},
   "outputs": [
    {
     "data": {
      "image/png": "[encoded data removed]",
      "text/plain": [
       "<Figure size 432x288 with 1 Axes>"
      ]
     },
     "metadata": {
      "needs_background": "light"
     },
     "output_type": "display_data"
    }
   ],
   "source": [
    "fit_predict_and_plot_roc(Optpipeline, train_dataset.data, y_train_dataset, test_dataset.data, y_test_dataset)"
   ]
  },
  {
   "cell_type": "markdown",
   "metadata": {},
   "source": [
    "### Optimal Confusion Matrix, Accuracy, Recall, Precision, and F1 Score"
   ]
  },
  {
   "cell_type": "code",
   "execution_count": 32,
   "metadata": {},
   "outputs": [
    {
     "name": "stdout",
     "output_type": "stream",
     "text": [
      "OPTIMAL SVM CLASSIFIER\n",
      "-------------------------\n",
      "\n",
      "Optimal Confusion Matrix:\n",
      "[[1474   86]\n",
      " [  49 1541]]\n",
      "\n",
      "Optimal Scores\n",
      "- Accuracy:  0.957143\n",
      "- Recall:    0.969182\n",
      "- Precision: 0.947142\n",
      "- F-1:       0.958035\n"
     ]
    }
   ],
   "source": [
    "# predict class for test dataset\n",
    "Optpredict = Optpipeline.predict(test_dataset.data)\n",
    "\n",
    "# compute confusion matrix\n",
    "OptconfMatrix = confusion_matrix(y_test_dataset, Optpredict)\n",
    "\n",
    "# Optimal Confusion Matrix/Scores\n",
    "print('OPTIMAL SVM CLASSIFIER')\n",
    "print('-'*25)\n",
    "print('\\nOptimal Confusion Matrix:')\n",
    "print(OptconfMatrix)\n",
    "\n",
    "# Optimal Margin Scores\n",
    "print('\\nOptimal Scores')\n",
    "print(\"%-12s %f\" % ('- Accuracy:', accuracy_score(y_test_dataset, Optpredict)))\n",
    "print(\"%-12s %f\" % ('- Recall:', recall_score(y_test_dataset, Optpredict)))\n",
    "print(\"%-12s %f\" % ('- Precision:', precision_score(y_test_dataset, Optpredict)))\n",
    "print(\"%-12s %f\" % ('- F-1:', f1_score(y_test_dataset, Optpredict)))"
   ]
  },
  {
   "cell_type": "markdown",
   "metadata": {
    "colab_type": "text",
    "id": "fBKOZpg6Drcn"
   },
   "source": [
    "## Question 5: Logistic Classifier (Chris)\n",
    "\n",
    "Train a logistic classifier without regularization (you may need to come up with some way to approximate this if you use sklearn.linear_model.LogisticRegression); plot the ROC curve and report the confusion matrix and calculate the accuracy, recall precision and F-1 score of this classifier."
   ]
  },
  {
   "cell_type": "markdown",
   "metadata": {
    "colab_type": "text",
    "id": "5pEtQNSAQDII"
   },
   "source": [
    "### Logistic Regression with No Penalty\n",
    "\n",
    "Since sklearn's implementation of logistic regression does not give us the option of not using a regularizer, we can approximate this by setting the 'C' parameter to a very large number. "
   ]
  },
  {
   "cell_type": "code",
   "execution_count": 12,
   "metadata": {
    "colab": {},
    "colab_type": "code",
    "id": "ncSbLlLEEQQf"
   },
   "outputs": [],
   "source": [
    "# Combine sub-classes of docs into 'Computer Technology' and 'Recreational \n",
    "# Activity' using floor division such that when target is less than 4, it \n",
    "# becomes 0 and when it's between 4 and 7, it becomes 1\n",
    "vfunc = np.vectorize(lambda target: target // 4)\n",
    "y_train_dataset = vfunc(train_dataset.target)\n",
    "y_test_dataset = vfunc(test_dataset.target)\n",
    "\n",
    "\n",
    "# Logistic Regression\n",
    "from sklearn.linear_model import LinearRegression, LogisticRegression\n",
    "\n",
    "# Instantiate classifier, learn parameters, and predict class for test dataset\n",
    "classifier = LogisticRegression(C=np.inf, solver='lbfgs')\n",
    "classifier.fit(X_train_tfidf, y_train_dataset)\n",
    "y_pred = classifier.predict(X_test_tfidf)\n",
    "y_score = classifier.predict_proba(X_test_tfidf)"
   ]
  },
  {
   "cell_type": "markdown",
   "metadata": {
    "colab_type": "text",
    "id": "u3jcpPySQoIE"
   },
   "source": [
    "**Calculate ROC Curve**\n",
    "\n",
    "Use roc_curve from sklearn"
   ]
  },
  {
   "cell_type": "code",
   "execution_count": 13,
   "metadata": {
    "colab": {
     "base_uri": "https://localhost:8080/",
     "height": 293
    },
    "colab_type": "code",
    "id": "yavSbh3yB6aC",
    "outputId": "74cc0636-c54d-4501-d258-5ea2a3e105b4"
   },
   "outputs": [
    {
     "data": {
      "image/png": "[encoded data removed]",
      "text/plain": [
       "<Figure size 432x288 with 1 Axes>"
      ]
     },
     "metadata": {
      "needs_background": "light"
     },
     "output_type": "display_data"
    }
   ],
   "source": [
    "from sklearn.metrics import recall_score\n",
    "from sklearn.metrics import roc_curve\n",
    "from sklearn.metrics import auc\n",
    "\n",
    "# Calculate fpr and tpr\n",
    "fpr, tpr, _ = roc_curve(y_test_dataset, y_score[:,1])\n",
    "\n",
    "# Function to plot ROC curve\n",
    "def plot_roc(fpr, tpr):\n",
    "    fig, ax = plt.subplots()\n",
    "\n",
    "    roc_auc = auc(fpr,tpr)\n",
    "\n",
    "    ax.plot(fpr, tpr, lw=2, label= 'area under curve = %0.4f' % roc_auc)\n",
    "\n",
    "    ax.grid(color='0.7', linestyle='--', linewidth=1)\n",
    "\n",
    "    ax.set_xlim([-0.1, 1.1])\n",
    "    ax.set_ylim([0.0, 1.05])\n",
    "    ax.set_xlabel('False Positive Rate',fontsize=15)\n",
    "    ax.set_ylabel('True Positive Rate',fontsize=15)\n",
    "\n",
    "    ax.legend(loc=\"lower right\")\n",
    "\n",
    "    for label in ax.get_xticklabels()+ax.get_yticklabels():\n",
    "        label.set_fontsize(15)\n",
    "\n",
    "# Call function to plot ROC\n",
    "plot_roc(fpr, tpr)"
   ]
  },
  {
   "cell_type": "markdown",
   "metadata": {
    "colab_type": "text",
    "id": "cS9Nptu8F-iz"
   },
   "source": [
    "**Confusion Matrix**\n",
    "\n",
    "Code from https://scikit-learn.org/stable/auto_examples/model_selection/plot_confusion_matrix.html"
   ]
  },
  {
   "cell_type": "code",
   "execution_count": 14,
   "metadata": {
    "colab": {
     "base_uri": "https://localhost:8080/",
     "height": 68
    },
    "colab_type": "code",
    "id": "rVrhtyykGFGo",
    "outputId": "6f79dc46-3cc7-4b53-b9bd-b5654a93f8fc"
   },
   "outputs": [
    {
     "name": "stdout",
     "output_type": "stream",
     "text": [
      "Confusion Matrix for Logistic Regression Classifier\n",
      "[[1507   53]\n",
      " [  17 1573]]\n"
     ]
    }
   ],
   "source": [
    "from sklearn.metrics import confusion_matrix\n",
    "from sklearn.utils.multiclass import unique_labels\n",
    "\n",
    "cm = confusion_matrix(y_test_dataset, y_pred)\n",
    "print('Confusion Matrix for Logistic Regression Classifier')\n",
    "print(cm)"
   ]
  },
  {
   "cell_type": "markdown",
   "metadata": {
    "colab_type": "text",
    "id": "UH_iBV7HTT9c"
   },
   "source": [
    "**Accuracy, Recall, Precision, and F-1 Score**"
   ]
  },
  {
   "cell_type": "code",
   "execution_count": 15,
   "metadata": {
    "colab": {
     "base_uri": "https://localhost:8080/",
     "height": 85
    },
    "colab_type": "code",
    "id": "z48UyCceTcxK",
    "outputId": "b6219774-7358-438c-8381-c3d12df93e81"
   },
   "outputs": [
    {
     "name": "stdout",
     "output_type": "stream",
     "text": [
      "Accuracy: 0.9777777777777777\n",
      "Recall: 0.9893081761006289\n",
      "Precision: 0.9674046740467405\n",
      "F-1 Score: 0.9782338308457712\n"
     ]
    }
   ],
   "source": [
    "from sklearn.metrics import accuracy_score\n",
    "from sklearn.metrics import recall_score\n",
    "from sklearn.metrics import precision_score\n",
    "from sklearn.metrics import f1_score\n",
    "\n",
    "# Calculate accuracy\n",
    "print(\"Accuracy: {}\".format(accuracy_score(y_test_dataset, y_pred)))\n",
    "print(\"Recall: {}\".format(recall_score(y_test_dataset, y_pred)))\n",
    "print(\"Precision: {}\".format(precision_score(y_test_dataset, y_pred)))\n",
    "print(\"F-1 Score: {}\".format(f1_score(y_test_dataset, y_pred)))"
   ]
  },
  {
   "cell_type": "markdown",
   "metadata": {
    "colab_type": "text",
    "id": "-JJK9ihHS5jr"
   },
   "source": [
    "### Logistic Regression with Regularization\n",
    "  * Using 5-fold cross-validation on the dimension-reduced-by-svd training data, find the best regularization strength in the range ... for logistic regression with L1 regularization and logistic regression L2 regularization, respectively.\n",
    "  * Compare the performance (accuracy, precision, recall and F-1 score) of 3 logistic classifiers: w/o regularization, w/ L1 regularization and w/ L2 regularization (with the best parameters you found from the part above), using test data.\n",
    "  * How does the regularization parameter affect the test error? How are the learnt coefficients affected? Why might one be interested in each type of regularization?\n",
    "  * Both logistic regression and linear SVM are trying to classify data points using a linear decision boundary, then what’s the difference between their ways to find this boundary? Why their performance differ?"
   ]
  },
  {
   "cell_type": "code",
   "execution_count": 16,
   "metadata": {
    "colab": {
     "base_uri": "https://localhost:8080/",
     "height": 85
    },
    "colab_type": "code",
    "id": "bKwQgDk9TAd_",
    "outputId": "521c0a76-e78e-429a-d572-4c9220df362a"
   },
   "outputs": [
    {
     "name": "stdout",
     "output_type": "stream",
     "text": [
      "Best Inverse Regularization strength for L1 Penalty: \n",
      "{'C': 10.0}\n",
      "Best Inverse Regularization strength for L2 Penalty: \n",
      "{'C': 100.0}\n"
     ]
    }
   ],
   "source": [
    "from sklearn.model_selection import cross_val_score\n",
    "from sklearn.model_selection import ShuffleSplit\n",
    "from sklearn.model_selection import GridSearchCV\n",
    "import math\n",
    "\n",
    "# Define parameter(s) to be used in the grid search\n",
    "parameters = {'C': [math.pow(10,k) for k in range(-3,4)]}\n",
    "\n",
    "# Create a grid search to find the best C value for L1 Penalty\n",
    "grid_clf = GridSearchCV(LogisticRegression(penalty='l1', solver='liblinear'), \n",
    "                        parameters, cv=5)\n",
    "grid_clf.fit(X_transformed, y_train_dataset)\n",
    "\n",
    "print(\"Best Inverse Regularization strength for L1 Penalty: \")\n",
    "print(grid_clf.best_params_)\n",
    "\n",
    "# Create a grid search to find the best C value for L1 Penalty\n",
    "grid_clf = GridSearchCV(LogisticRegression(penalty='l2', solver='lbfgs', \n",
    "                                           max_iter=200), parameters, cv=5)\n",
    "grid_clf.fit(X_transformed, y_train_dataset)\n",
    "\n",
    "print(\"Best Inverse Regularization strength for L2 Penalty: \")\n",
    "print(grid_clf.best_params_)"
   ]
  },
  {
   "cell_type": "markdown",
   "metadata": {
    "colab_type": "text",
    "id": "mME5Q-w5s13G"
   },
   "source": [
    "* Compare the performance (accuracy, precision, recall and F-1 score) of 3 logistic classifiers: w/o regularization, w/ L1 regularization and w/ L2 regularization (with the best parameters you found from the part above), using test data."
   ]
  },
  {
   "cell_type": "code",
   "execution_count": null,
   "metadata": {
    "colab": {},
    "colab_type": "code",
    "id": "r4B1vErJs5hE"
   },
   "outputs": [],
   "source": []
  },
  {
   "cell_type": "markdown",
   "metadata": {
    "colab_type": "text",
    "id": "hOVH7dZsEaWN"
   },
   "source": [
    "### Question 6: Naive Bayes (Danny)"
   ]
  }
 ],
 "metadata": {
  "colab": {
   "collapsed_sections": [],
   "include_colab_link": true,
   "name": "Project1.ipynb",
   "provenance": [],
   "version": "0.3.2"
  },
  "kernelspec": {
   "display_name": "Python 3",
   "language": "python",
   "name": "python3"
  },
  "language_info": {
   "codemirror_mode": {
    "name": "ipython",
    "version": 3
   },
   "file_extension": ".py",
   "mimetype": "text/x-python",
   "name": "python",
   "nbconvert_exporter": "python",
   "pygments_lexer": "ipython3",
   "version": "3.7.3"
  }
 },
 "nbformat": 4,
 "nbformat_minor": 1
}
